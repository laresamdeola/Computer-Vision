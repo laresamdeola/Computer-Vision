{
  "nbformat": 4,
  "nbformat_minor": 0,
  "metadata": {
    "colab": {
      "provenance": [],
      "authorship_tag": "ABX9TyPqT1dqjClt8oXFHdRKH9BK",
      "include_colab_link": true
    },
    "kernelspec": {
      "name": "python3",
      "display_name": "Python 3"
    },
    "language_info": {
      "name": "python"
    }
  },
  "cells": [
    {
      "cell_type": "markdown",
      "metadata": {
        "id": "view-in-github",
        "colab_type": "text"
      },
      "source": [
        "<a href=\"https://colab.research.google.com/github/laresamdeola/Computer-Vision/blob/main/HappyORSad_CV_Model.ipynb\" target=\"_parent\"><img src=\"https://colab.research.google.com/assets/colab-badge.svg\" alt=\"Open In Colab\"/></a>"
      ]
    },
    {
      "cell_type": "code",
      "execution_count": 17,
      "metadata": {
        "id": "SE3I1SMLGcpV"
      },
      "outputs": [],
      "source": [
        "import numpy as np\n",
        "import pandas as pd\n",
        "import tensorflow as tf\n",
        "from keras.preprocessing.image import ImageDataGenerator"
      ]
    },
    {
      "cell_type": "code",
      "source": [
        "tf.__version__"
      ],
      "metadata": {
        "colab": {
          "base_uri": "https://localhost:8080/",
          "height": 35
        },
        "id": "T0dmETh6G75H",
        "outputId": "85d4245b-eeec-4ce0-a7da-2789bb03cd10"
      },
      "execution_count": 18,
      "outputs": [
        {
          "output_type": "execute_result",
          "data": {
            "text/plain": [
              "'2.15.0'"
            ],
            "application/vnd.google.colaboratory.intrinsic+json": {
              "type": "string"
            }
          },
          "metadata": {},
          "execution_count": 18
        }
      ]
    },
    {
      "cell_type": "code",
      "source": [
        "import os"
      ],
      "metadata": {
        "id": "zOdgydoeJcQF"
      },
      "execution_count": 19,
      "outputs": []
    },
    {
      "cell_type": "code",
      "source": [
        "os.getcwd()"
      ],
      "metadata": {
        "colab": {
          "base_uri": "https://localhost:8080/",
          "height": 35
        },
        "id": "cLW37VPSJeU_",
        "outputId": "746ea214-6a60-4651-f0f6-aedc1fed0904"
      },
      "execution_count": 20,
      "outputs": [
        {
          "output_type": "execute_result",
          "data": {
            "text/plain": [
              "'/content'"
            ],
            "application/vnd.google.colaboratory.intrinsic+json": {
              "type": "string"
            }
          },
          "metadata": {},
          "execution_count": 20
        }
      ]
    },
    {
      "cell_type": "code",
      "source": [
        "train_datagen = ImageDataGenerator(\n",
        "    rescale=1./255,\n",
        "    shear_range=0.2,\n",
        "    zoom_range=0.2,\n",
        "    horizontal_flip=True\n",
        ")\n",
        "\n",
        "train_set = train_datagen.flow_from_directory(\n",
        "    'cv_dataset1/train_data',\n",
        "    target_size=(64,64),\n",
        "    batch_size=32,\n",
        "    class_mode='categorical'\n",
        ")"
      ],
      "metadata": {
        "colab": {
          "base_uri": "https://localhost:8080/"
        },
        "id": "hNTggVAnHKTf",
        "outputId": "d4dbcc03-a4bb-4408-80d0-c7c835c3daaa"
      },
      "execution_count": 21,
      "outputs": [
        {
          "output_type": "stream",
          "name": "stdout",
          "text": [
            "Found 304 images belonging to 3 classes.\n"
          ]
        }
      ]
    },
    {
      "cell_type": "code",
      "source": [
        "test_datagen = ImageDataGenerator(\n",
        "    rescale=1./255\n",
        ")\n",
        "\n",
        "test_set = test_datagen.flow_from_directory(\n",
        "    'cv_dataset1/test_data',\n",
        "    target_size=(64,64),\n",
        "    batch_size=32,\n",
        "    class_mode='categorical'\n",
        ")"
      ],
      "metadata": {
        "colab": {
          "base_uri": "https://localhost:8080/"
        },
        "id": "csaPs3OIFAbE",
        "outputId": "24be9b7e-0415-4aa6-e10e-76b59747b6f6"
      },
      "execution_count": 22,
      "outputs": [
        {
          "output_type": "stream",
          "name": "stdout",
          "text": [
            "Found 60 images belonging to 3 classes.\n"
          ]
        }
      ]
    },
    {
      "cell_type": "code",
      "source": [
        "cnn = tf.keras.models.Sequential()"
      ],
      "metadata": {
        "id": "CArqD7OFFZgT"
      },
      "execution_count": 23,
      "outputs": []
    },
    {
      "cell_type": "code",
      "source": [
        "cnn.add(tf.keras.layers.Conv2D(filters=32,\n",
        "                               kernel_size=3,\n",
        "                               activation='relu',\n",
        "                               input_shape=[64,64,3]))"
      ],
      "metadata": {
        "id": "xNJvHDtNGT7f"
      },
      "execution_count": 24,
      "outputs": []
    },
    {
      "cell_type": "code",
      "source": [
        "cnn.add(tf.keras.layers.MaxPool2D(pool_size=2, strides=2))"
      ],
      "metadata": {
        "id": "JA1D17JYFZ6S"
      },
      "execution_count": 25,
      "outputs": []
    },
    {
      "cell_type": "code",
      "source": [
        "cnn.add(tf.keras.layers.Flatten())"
      ],
      "metadata": {
        "id": "MCR24kywHwF5"
      },
      "execution_count": 26,
      "outputs": []
    },
    {
      "cell_type": "code",
      "source": [
        "cnn.add(tf.keras.layers.Dense(units=128, activation='relu'))"
      ],
      "metadata": {
        "id": "nqcB2VldH1at"
      },
      "execution_count": 27,
      "outputs": []
    },
    {
      "cell_type": "code",
      "source": [
        "cnn.add(tf.keras.layers.Dense(units=3, activation='softmax'))"
      ],
      "metadata": {
        "id": "5MeXC8AoH_I_"
      },
      "execution_count": 28,
      "outputs": []
    },
    {
      "cell_type": "code",
      "source": [
        "cnn.compile(optimizer='adam', loss='categorical_crossentropy', metrics=['accuracy'])"
      ],
      "metadata": {
        "id": "_FzKeE29IJU2"
      },
      "execution_count": 29,
      "outputs": []
    },
    {
      "cell_type": "code",
      "source": [
        "cnn.fit(x=train_set, validation_data=test_set, epochs=10)"
      ],
      "metadata": {
        "colab": {
          "base_uri": "https://localhost:8080/"
        },
        "id": "VtfAimEjITe8",
        "outputId": "c4ab98ab-e3ae-43af-ab62-152a25da5d22"
      },
      "execution_count": 30,
      "outputs": [
        {
          "output_type": "stream",
          "name": "stdout",
          "text": [
            "Epoch 1/10\n",
            "10/10 [==============================] - 10s 976ms/step - loss: 1.4051 - accuracy: 0.5855 - val_loss: 0.7420 - val_accuracy: 0.5333\n",
            "Epoch 2/10\n",
            "10/10 [==============================] - 7s 768ms/step - loss: 0.5925 - accuracy: 0.7237 - val_loss: 0.5452 - val_accuracy: 0.7000\n",
            "Epoch 3/10\n",
            "10/10 [==============================] - 7s 704ms/step - loss: 0.5614 - accuracy: 0.7270 - val_loss: 0.4459 - val_accuracy: 0.7833\n",
            "Epoch 4/10\n",
            "10/10 [==============================] - 8s 821ms/step - loss: 0.4777 - accuracy: 0.7664 - val_loss: 0.3895 - val_accuracy: 0.8500\n",
            "Epoch 5/10\n",
            "10/10 [==============================] - 7s 752ms/step - loss: 0.4112 - accuracy: 0.7862 - val_loss: 0.3637 - val_accuracy: 0.8667\n",
            "Epoch 6/10\n",
            "10/10 [==============================] - 7s 748ms/step - loss: 0.3935 - accuracy: 0.8257 - val_loss: 0.3864 - val_accuracy: 0.8167\n",
            "Epoch 7/10\n",
            "10/10 [==============================] - 7s 694ms/step - loss: 0.3672 - accuracy: 0.8553 - val_loss: 0.2865 - val_accuracy: 0.9167\n",
            "Epoch 8/10\n",
            "10/10 [==============================] - 7s 740ms/step - loss: 0.3102 - accuracy: 0.8586 - val_loss: 0.2081 - val_accuracy: 0.9667\n",
            "Epoch 9/10\n",
            "10/10 [==============================] - 6s 649ms/step - loss: 0.2662 - accuracy: 0.8947 - val_loss: 0.1738 - val_accuracy: 0.9333\n",
            "Epoch 10/10\n",
            "10/10 [==============================] - 7s 593ms/step - loss: 0.2455 - accuracy: 0.9145 - val_loss: 0.1466 - val_accuracy: 0.9500\n"
          ]
        },
        {
          "output_type": "execute_result",
          "data": {
            "text/plain": [
              "<keras.src.callbacks.History at 0x7d25bb730ee0>"
            ]
          },
          "metadata": {},
          "execution_count": 30
        }
      ]
    },
    {
      "cell_type": "code",
      "source": [
        "cnn.summary()"
      ],
      "metadata": {
        "colab": {
          "base_uri": "https://localhost:8080/"
        },
        "id": "GwLC86O1Iez1",
        "outputId": "0a30f3c1-ab6f-43a2-802c-616a22078b17"
      },
      "execution_count": 31,
      "outputs": [
        {
          "output_type": "stream",
          "name": "stdout",
          "text": [
            "Model: \"sequential_1\"\n",
            "_________________________________________________________________\n",
            " Layer (type)                Output Shape              Param #   \n",
            "=================================================================\n",
            " conv2d_1 (Conv2D)           (None, 62, 62, 32)        896       \n",
            "                                                                 \n",
            " max_pooling2d_1 (MaxPoolin  (None, 31, 31, 32)        0         \n",
            " g2D)                                                            \n",
            "                                                                 \n",
            " flatten_1 (Flatten)         (None, 30752)             0         \n",
            "                                                                 \n",
            " dense_2 (Dense)             (None, 128)               3936384   \n",
            "                                                                 \n",
            " dense_3 (Dense)             (None, 3)                 387       \n",
            "                                                                 \n",
            "=================================================================\n",
            "Total params: 3937667 (15.02 MB)\n",
            "Trainable params: 3937667 (15.02 MB)\n",
            "Non-trainable params: 0 (0.00 Byte)\n",
            "_________________________________________________________________\n"
          ]
        }
      ]
    },
    {
      "cell_type": "code",
      "source": [],
      "metadata": {
        "id": "ZC_i9AozNRFM"
      },
      "execution_count": 31,
      "outputs": []
    }
  ]
}