{
  "nbformat": 4,
  "nbformat_minor": 0,
  "metadata": {
    "colab": {
      "provenance": [],
      "gpuType": "T4",
      "authorship_tag": "ABX9TyOd4OD0qnNdqGbXlt3wIfAV",
      "include_colab_link": true
    },
    "kernelspec": {
      "name": "python3",
      "display_name": "Python 3"
    },
    "language_info": {
      "name": "python"
    },
    "accelerator": "GPU"
  },
  "cells": [
    {
      "cell_type": "markdown",
      "metadata": {
        "id": "view-in-github",
        "colab_type": "text"
      },
      "source": [
        "<a href=\"https://colab.research.google.com/github/laresamdeola/Computer-Vision/blob/main/Naira_Currency_Counterfeit_Model.ipynb\" target=\"_parent\"><img src=\"https://colab.research.google.com/assets/colab-badge.svg\" alt=\"Open In Colab\"/></a>"
      ]
    },
    {
      "cell_type": "code",
      "execution_count": 67,
      "metadata": {
        "id": "SE3I1SMLGcpV"
      },
      "outputs": [],
      "source": [
        "import numpy as np\n",
        "import pandas as pd\n",
        "import tensorflow as tf\n",
        "from keras.preprocessing.image import ImageDataGenerator\n",
        "from tensorflow.keras.preprocessing import image"
      ]
    },
    {
      "cell_type": "code",
      "source": [
        "tf.__version__"
      ],
      "metadata": {
        "colab": {
          "base_uri": "https://localhost:8080/",
          "height": 35
        },
        "id": "T0dmETh6G75H",
        "outputId": "f04f6b32-5dcf-4569-88bb-c958e9c90e2a"
      },
      "execution_count": 37,
      "outputs": [
        {
          "output_type": "execute_result",
          "data": {
            "text/plain": [
              "'2.15.0'"
            ],
            "application/vnd.google.colaboratory.intrinsic+json": {
              "type": "string"
            }
          },
          "metadata": {},
          "execution_count": 37
        }
      ]
    },
    {
      "cell_type": "code",
      "source": [
        "import os\n",
        "import shutil"
      ],
      "metadata": {
        "id": "zOdgydoeJcQF"
      },
      "execution_count": 38,
      "outputs": []
    },
    {
      "cell_type": "code",
      "source": [
        "os.getcwd()"
      ],
      "metadata": {
        "colab": {
          "base_uri": "https://localhost:8080/",
          "height": 35
        },
        "id": "cLW37VPSJeU_",
        "outputId": "a3639de9-f37a-4b28-b404-bfe29e10e67f"
      },
      "execution_count": 39,
      "outputs": [
        {
          "output_type": "execute_result",
          "data": {
            "text/plain": [
              "'/content'"
            ],
            "application/vnd.google.colaboratory.intrinsic+json": {
              "type": "string"
            }
          },
          "metadata": {},
          "execution_count": 39
        }
      ]
    },
    {
      "cell_type": "code",
      "source": [
        "os.listdir('NCC_data')"
      ],
      "metadata": {
        "colab": {
          "base_uri": "https://localhost:8080/"
        },
        "id": "KP76YLNkRPNP",
        "outputId": "a85f3731-5f90-4f4a-f4e1-fbca2272c8c0"
      },
      "execution_count": 40,
      "outputs": [
        {
          "output_type": "execute_result",
          "data": {
            "text/plain": [
              "['train_data', 'test_data']"
            ]
          },
          "metadata": {},
          "execution_count": 40
        }
      ]
    },
    {
      "cell_type": "code",
      "source": [
        "# shutil.rmtree('NCC_data/.ipynb_checkpoints')"
      ],
      "metadata": {
        "id": "DshLu_OIRVwq"
      },
      "execution_count": 41,
      "outputs": []
    },
    {
      "cell_type": "code",
      "source": [
        "os.listdir('NCC_data')"
      ],
      "metadata": {
        "colab": {
          "base_uri": "https://localhost:8080/"
        },
        "id": "eI95taKSRhTs",
        "outputId": "06a63033-e1b1-4bce-9bc0-5a42e1b8ff70"
      },
      "execution_count": 42,
      "outputs": [
        {
          "output_type": "execute_result",
          "data": {
            "text/plain": [
              "['train_data', 'test_data']"
            ]
          },
          "metadata": {},
          "execution_count": 42
        }
      ]
    },
    {
      "cell_type": "code",
      "source": [
        "os.listdir('NCC_data/train_data')"
      ],
      "metadata": {
        "colab": {
          "base_uri": "https://localhost:8080/"
        },
        "id": "LMoK83soRs3F",
        "outputId": "fb83d35c-ca25-486d-b18b-bcd8e1bde54a"
      },
      "execution_count": 43,
      "outputs": [
        {
          "output_type": "execute_result",
          "data": {
            "text/plain": [
              "['others', 'naira']"
            ]
          },
          "metadata": {},
          "execution_count": 43
        }
      ]
    },
    {
      "cell_type": "code",
      "source": [
        "os.listdir('NCC_data/test_data')"
      ],
      "metadata": {
        "colab": {
          "base_uri": "https://localhost:8080/"
        },
        "id": "pzNlP5rrHUli",
        "outputId": "c5b1478a-0a12-4441-9808-6ad232fa3fbe"
      },
      "execution_count": 44,
      "outputs": [
        {
          "output_type": "execute_result",
          "data": {
            "text/plain": [
              "['others', 'naira']"
            ]
          },
          "metadata": {},
          "execution_count": 44
        }
      ]
    },
    {
      "cell_type": "code",
      "source": [
        "os.listdir('NCC_data/train_data')"
      ],
      "metadata": {
        "colab": {
          "base_uri": "https://localhost:8080/"
        },
        "id": "6_pC5w_uHW7s",
        "outputId": "366377b3-5f0b-49ba-fdf1-e4e48c9dee2c"
      },
      "execution_count": 45,
      "outputs": [
        {
          "output_type": "execute_result",
          "data": {
            "text/plain": [
              "['others', 'naira']"
            ]
          },
          "metadata": {},
          "execution_count": 45
        }
      ]
    },
    {
      "cell_type": "code",
      "source": [
        "os.listdir('NCC_data/test_data')"
      ],
      "metadata": {
        "colab": {
          "base_uri": "https://localhost:8080/"
        },
        "id": "Qi18BBTsHZco",
        "outputId": "aa0b9c84-7ad3-4916-f01c-abde1620131d"
      },
      "execution_count": 46,
      "outputs": [
        {
          "output_type": "execute_result",
          "data": {
            "text/plain": [
              "['others', 'naira']"
            ]
          },
          "metadata": {},
          "execution_count": 46
        }
      ]
    },
    {
      "cell_type": "code",
      "source": [
        "# shutil.rmtree('NCC_data/train_data/.ipynb_checkpoints')"
      ],
      "metadata": {
        "id": "ZI7p2Sj8R1dS"
      },
      "execution_count": 47,
      "outputs": []
    },
    {
      "cell_type": "code",
      "source": [
        "# shutil.rmtree('NCC_data/test_data/.ipynb_checkpoints')"
      ],
      "metadata": {
        "id": "IsTxDpeQR9El"
      },
      "execution_count": 48,
      "outputs": []
    },
    {
      "cell_type": "code",
      "source": [
        "os.listdir('NCC_data/train_data')\n",
        "os.listdir('NCC_data/test_data')"
      ],
      "metadata": {
        "colab": {
          "base_uri": "https://localhost:8080/"
        },
        "id": "QDZIO2OkSBS9",
        "outputId": "1c522e2d-1ac1-430b-fe2c-4cca4c002375"
      },
      "execution_count": 49,
      "outputs": [
        {
          "output_type": "execute_result",
          "data": {
            "text/plain": [
              "['others', 'naira']"
            ]
          },
          "metadata": {},
          "execution_count": 49
        }
      ]
    },
    {
      "cell_type": "code",
      "source": [
        "train_datagen = ImageDataGenerator(\n",
        "    rescale=1./255,\n",
        "    shear_range=0.2,\n",
        "    zoom_range=0.2,\n",
        "    horizontal_flip=True\n",
        ")\n",
        "\n",
        "train_set = train_datagen.flow_from_directory(\n",
        "    'NCC_data/train_data',\n",
        "    target_size=(64,64),\n",
        "    batch_size=32,\n",
        "    class_mode='binary'\n",
        ")"
      ],
      "metadata": {
        "colab": {
          "base_uri": "https://localhost:8080/"
        },
        "id": "hNTggVAnHKTf",
        "outputId": "11e1f3b7-2df7-4547-d3fb-338b9bead230"
      },
      "execution_count": 50,
      "outputs": [
        {
          "output_type": "stream",
          "name": "stdout",
          "text": [
            "Found 36 images belonging to 2 classes.\n"
          ]
        }
      ]
    },
    {
      "cell_type": "code",
      "source": [
        "print(train_set.labels)"
      ],
      "metadata": {
        "colab": {
          "base_uri": "https://localhost:8080/"
        },
        "id": "29rAEpIyQqiE",
        "outputId": "759ab5b7-4e6a-4cb0-8819-692e0a120f0d"
      },
      "execution_count": 51,
      "outputs": [
        {
          "output_type": "stream",
          "name": "stdout",
          "text": [
            "[0 0 0 0 0 0 0 0 0 0 0 0 0 0 0 0 0 0 1 1 1 1 1 1 1 1 1 1 1 1 1 1 1 1 1 1]\n"
          ]
        }
      ]
    },
    {
      "cell_type": "code",
      "source": [
        "test_datagen = ImageDataGenerator(\n",
        "    rescale=1./255\n",
        ")\n",
        "\n",
        "test_set = test_datagen.flow_from_directory(\n",
        "    'NCC_data/test_data',\n",
        "    target_size=(64,64),\n",
        "    batch_size=32,\n",
        "    class_mode='binary'\n",
        ")"
      ],
      "metadata": {
        "colab": {
          "base_uri": "https://localhost:8080/"
        },
        "id": "csaPs3OIFAbE",
        "outputId": "378adbe1-23da-4de6-828b-650eb4cf30f7"
      },
      "execution_count": 81,
      "outputs": [
        {
          "output_type": "stream",
          "name": "stdout",
          "text": [
            "Found 9 images belonging to 2 classes.\n"
          ]
        }
      ]
    },
    {
      "cell_type": "code",
      "source": [
        "print(test_set.labels)"
      ],
      "metadata": {
        "colab": {
          "base_uri": "https://localhost:8080/"
        },
        "id": "xjeLTPoXTU6K",
        "outputId": "c0b3a09a-597c-4f92-d8b3-ad5b0e8e289b"
      },
      "execution_count": 82,
      "outputs": [
        {
          "output_type": "stream",
          "name": "stdout",
          "text": [
            "[0 0 0 0 0 1 1 1 1]\n"
          ]
        }
      ]
    },
    {
      "cell_type": "code",
      "source": [
        "cnn = tf.keras.models.Sequential()"
      ],
      "metadata": {
        "id": "CArqD7OFFZgT"
      },
      "execution_count": 53,
      "outputs": []
    },
    {
      "cell_type": "code",
      "source": [
        "cnn.add(tf.keras.layers.Conv2D(filters=32,\n",
        "                               kernel_size=3,\n",
        "                               activation='relu',\n",
        "                               input_shape=[64,64,3]))"
      ],
      "metadata": {
        "id": "xNJvHDtNGT7f"
      },
      "execution_count": 54,
      "outputs": []
    },
    {
      "cell_type": "code",
      "source": [
        "cnn.add(tf.keras.layers.MaxPool2D(pool_size=2, strides=2))"
      ],
      "metadata": {
        "id": "JA1D17JYFZ6S"
      },
      "execution_count": 55,
      "outputs": []
    },
    {
      "cell_type": "code",
      "source": [
        "cnn.add(tf.keras.layers.Flatten())"
      ],
      "metadata": {
        "id": "MCR24kywHwF5"
      },
      "execution_count": 56,
      "outputs": []
    },
    {
      "cell_type": "code",
      "source": [
        "cnn.add(tf.keras.layers.Dense(units=128, activation='relu'))"
      ],
      "metadata": {
        "id": "nqcB2VldH1at"
      },
      "execution_count": 57,
      "outputs": []
    },
    {
      "cell_type": "code",
      "source": [
        "cnn.add(tf.keras.layers.Dense(units=1, activation='sigmoid'))"
      ],
      "metadata": {
        "id": "5MeXC8AoH_I_"
      },
      "execution_count": 58,
      "outputs": []
    },
    {
      "cell_type": "code",
      "source": [
        "cnn.compile(optimizer='adam', loss='binary_crossentropy', metrics=['accuracy'])"
      ],
      "metadata": {
        "id": "_FzKeE29IJU2"
      },
      "execution_count": 59,
      "outputs": []
    },
    {
      "cell_type": "code",
      "source": [
        "cnn.fit(x=train_set, validation_data=test_set, epochs=60)"
      ],
      "metadata": {
        "colab": {
          "base_uri": "https://localhost:8080/"
        },
        "id": "VtfAimEjITe8",
        "outputId": "662adf05-1831-47eb-e0d1-25c80590241a"
      },
      "execution_count": 60,
      "outputs": [
        {
          "output_type": "stream",
          "name": "stdout",
          "text": [
            "Epoch 1/60\n",
            "2/2 [==============================] - 2s 346ms/step - loss: 9.0261 - accuracy: 0.4722 - val_loss: 3.5782 - val_accuracy: 0.5000\n",
            "Epoch 2/60\n",
            "2/2 [==============================] - 0s 148ms/step - loss: 3.3889 - accuracy: 0.5000 - val_loss: 2.6891 - val_accuracy: 0.5000\n",
            "Epoch 3/60\n",
            "2/2 [==============================] - 0s 424ms/step - loss: 1.9578 - accuracy: 0.5000 - val_loss: 1.4476 - val_accuracy: 0.5000\n",
            "Epoch 4/60\n",
            "2/2 [==============================] - 0s 424ms/step - loss: 0.7929 - accuracy: 0.5000 - val_loss: 0.6839 - val_accuracy: 0.6000\n",
            "Epoch 5/60\n",
            "2/2 [==============================] - 0s 172ms/step - loss: 0.6926 - accuracy: 0.7222 - val_loss: 0.7049 - val_accuracy: 0.5000\n",
            "Epoch 6/60\n",
            "2/2 [==============================] - 0s 424ms/step - loss: 0.7230 - accuracy: 0.5000 - val_loss: 0.7255 - val_accuracy: 0.5000\n",
            "Epoch 7/60\n",
            "2/2 [==============================] - 0s 151ms/step - loss: 0.7324 - accuracy: 0.5000 - val_loss: 0.6783 - val_accuracy: 0.6000\n",
            "Epoch 8/60\n",
            "2/2 [==============================] - 0s 174ms/step - loss: 0.6801 - accuracy: 0.6111 - val_loss: 0.6682 - val_accuracy: 0.7000\n",
            "Epoch 9/60\n",
            "2/2 [==============================] - 1s 562ms/step - loss: 0.7244 - accuracy: 0.5000 - val_loss: 0.7568 - val_accuracy: 0.5000\n",
            "Epoch 10/60\n",
            "2/2 [==============================] - 1s 220ms/step - loss: 0.7599 - accuracy: 0.5000 - val_loss: 0.7057 - val_accuracy: 0.5000\n",
            "Epoch 11/60\n",
            "2/2 [==============================] - 1s 448ms/step - loss: 0.6592 - accuracy: 0.5278 - val_loss: 0.6480 - val_accuracy: 0.7000\n",
            "Epoch 12/60\n",
            "2/2 [==============================] - 1s 199ms/step - loss: 0.6283 - accuracy: 0.8056 - val_loss: 0.7082 - val_accuracy: 0.5000\n",
            "Epoch 13/60\n",
            "2/2 [==============================] - 0s 151ms/step - loss: 0.6358 - accuracy: 0.5000 - val_loss: 0.7267 - val_accuracy: 0.5000\n",
            "Epoch 14/60\n",
            "2/2 [==============================] - 0s 423ms/step - loss: 0.6091 - accuracy: 0.5833 - val_loss: 0.6841 - val_accuracy: 0.6000\n",
            "Epoch 15/60\n",
            "2/2 [==============================] - 0s 154ms/step - loss: 0.5959 - accuracy: 0.8333 - val_loss: 0.6499 - val_accuracy: 0.7000\n",
            "Epoch 16/60\n",
            "2/2 [==============================] - 0s 417ms/step - loss: 0.5891 - accuracy: 0.7500 - val_loss: 0.6400 - val_accuracy: 0.6000\n",
            "Epoch 17/60\n",
            "2/2 [==============================] - 1s 463ms/step - loss: 0.5657 - accuracy: 0.8333 - val_loss: 0.6588 - val_accuracy: 0.7000\n",
            "Epoch 18/60\n",
            "2/2 [==============================] - 0s 152ms/step - loss: 0.5467 - accuracy: 0.9722 - val_loss: 0.7140 - val_accuracy: 0.6000\n",
            "Epoch 19/60\n",
            "2/2 [==============================] - 0s 446ms/step - loss: 0.5544 - accuracy: 0.5833 - val_loss: 0.7544 - val_accuracy: 0.5000\n",
            "Epoch 20/60\n",
            "2/2 [==============================] - 1s 451ms/step - loss: 0.5289 - accuracy: 0.7500 - val_loss: 0.6403 - val_accuracy: 0.6000\n",
            "Epoch 21/60\n",
            "2/2 [==============================] - 0s 156ms/step - loss: 0.5013 - accuracy: 1.0000 - val_loss: 0.5868 - val_accuracy: 0.7000\n",
            "Epoch 22/60\n",
            "2/2 [==============================] - 0s 161ms/step - loss: 0.5294 - accuracy: 0.7222 - val_loss: 0.5694 - val_accuracy: 0.7000\n",
            "Epoch 23/60\n",
            "2/2 [==============================] - 1s 448ms/step - loss: 0.4885 - accuracy: 0.8056 - val_loss: 0.5551 - val_accuracy: 0.7000\n",
            "Epoch 24/60\n",
            "2/2 [==============================] - 0s 166ms/step - loss: 0.4681 - accuracy: 0.8889 - val_loss: 0.5794 - val_accuracy: 0.7000\n",
            "Epoch 25/60\n",
            "2/2 [==============================] - 0s 153ms/step - loss: 0.4487 - accuracy: 0.9167 - val_loss: 0.4937 - val_accuracy: 0.8000\n",
            "Epoch 26/60\n",
            "2/2 [==============================] - 0s 158ms/step - loss: 0.4317 - accuracy: 0.8889 - val_loss: 0.4607 - val_accuracy: 0.8000\n",
            "Epoch 27/60\n",
            "2/2 [==============================] - 0s 414ms/step - loss: 0.4634 - accuracy: 0.7500 - val_loss: 0.4503 - val_accuracy: 0.8000\n",
            "Epoch 28/60\n",
            "2/2 [==============================] - 0s 418ms/step - loss: 0.4499 - accuracy: 0.7778 - val_loss: 0.4172 - val_accuracy: 0.8000\n",
            "Epoch 29/60\n",
            "2/2 [==============================] - 0s 176ms/step - loss: 0.4123 - accuracy: 0.8056 - val_loss: 0.4254 - val_accuracy: 0.9000\n",
            "Epoch 30/60\n",
            "2/2 [==============================] - 1s 235ms/step - loss: 0.3768 - accuracy: 0.9444 - val_loss: 0.4841 - val_accuracy: 0.7000\n",
            "Epoch 31/60\n",
            "2/2 [==============================] - 1s 222ms/step - loss: 0.3676 - accuracy: 0.9167 - val_loss: 0.5507 - val_accuracy: 0.7000\n",
            "Epoch 32/60\n",
            "2/2 [==============================] - 0s 432ms/step - loss: 0.3702 - accuracy: 0.9444 - val_loss: 0.5827 - val_accuracy: 0.6000\n",
            "Epoch 33/60\n",
            "2/2 [==============================] - 0s 426ms/step - loss: 0.3245 - accuracy: 0.9722 - val_loss: 0.5152 - val_accuracy: 0.7000\n",
            "Epoch 34/60\n",
            "2/2 [==============================] - 1s 159ms/step - loss: 0.3193 - accuracy: 0.9167 - val_loss: 0.5455 - val_accuracy: 0.7000\n",
            "Epoch 35/60\n",
            "2/2 [==============================] - 0s 152ms/step - loss: 0.3077 - accuracy: 0.9444 - val_loss: 0.5919 - val_accuracy: 0.6000\n",
            "Epoch 36/60\n",
            "2/2 [==============================] - 0s 433ms/step - loss: 0.2739 - accuracy: 1.0000 - val_loss: 0.6876 - val_accuracy: 0.7000\n",
            "Epoch 37/60\n",
            "2/2 [==============================] - 0s 154ms/step - loss: 0.2764 - accuracy: 0.9722 - val_loss: 0.7665 - val_accuracy: 0.7000\n",
            "Epoch 38/60\n",
            "2/2 [==============================] - 0s 414ms/step - loss: 0.2394 - accuracy: 0.9722 - val_loss: 0.6917 - val_accuracy: 0.6000\n",
            "Epoch 39/60\n",
            "2/2 [==============================] - 0s 413ms/step - loss: 0.2398 - accuracy: 0.9722 - val_loss: 0.6868 - val_accuracy: 0.6000\n",
            "Epoch 40/60\n",
            "2/2 [==============================] - 0s 162ms/step - loss: 0.2355 - accuracy: 1.0000 - val_loss: 0.6150 - val_accuracy: 0.7000\n",
            "Epoch 41/60\n",
            "2/2 [==============================] - 0s 161ms/step - loss: 0.2157 - accuracy: 1.0000 - val_loss: 0.5390 - val_accuracy: 0.7000\n",
            "Epoch 42/60\n",
            "2/2 [==============================] - 0s 414ms/step - loss: 0.2305 - accuracy: 0.9444 - val_loss: 0.4949 - val_accuracy: 0.7000\n",
            "Epoch 43/60\n",
            "2/2 [==============================] - 0s 426ms/step - loss: 0.1931 - accuracy: 0.9444 - val_loss: 0.4659 - val_accuracy: 0.8000\n",
            "Epoch 44/60\n",
            "2/2 [==============================] - 0s 151ms/step - loss: 0.2106 - accuracy: 0.9722 - val_loss: 0.6222 - val_accuracy: 0.7000\n",
            "Epoch 45/60\n",
            "2/2 [==============================] - 0s 159ms/step - loss: 0.1935 - accuracy: 0.9722 - val_loss: 0.6587 - val_accuracy: 0.6000\n",
            "Epoch 46/60\n",
            "2/2 [==============================] - 0s 159ms/step - loss: 0.2167 - accuracy: 0.9722 - val_loss: 0.4504 - val_accuracy: 0.8000\n",
            "Epoch 47/60\n",
            "2/2 [==============================] - 0s 428ms/step - loss: 0.2071 - accuracy: 0.9167 - val_loss: 0.5069 - val_accuracy: 0.7000\n",
            "Epoch 48/60\n",
            "2/2 [==============================] - 0s 426ms/step - loss: 0.1770 - accuracy: 0.9722 - val_loss: 0.6370 - val_accuracy: 0.7000\n",
            "Epoch 49/60\n",
            "2/2 [==============================] - 1s 468ms/step - loss: 0.1737 - accuracy: 1.0000 - val_loss: 0.8319 - val_accuracy: 0.7000\n",
            "Epoch 50/60\n",
            "2/2 [==============================] - 1s 508ms/step - loss: 0.2054 - accuracy: 0.9722 - val_loss: 0.6071 - val_accuracy: 0.6000\n",
            "Epoch 51/60\n",
            "2/2 [==============================] - 1s 580ms/step - loss: 0.1498 - accuracy: 0.9444 - val_loss: 0.4912 - val_accuracy: 0.7000\n",
            "Epoch 52/60\n",
            "2/2 [==============================] - 1s 219ms/step - loss: 0.1734 - accuracy: 0.9722 - val_loss: 0.4925 - val_accuracy: 0.7000\n",
            "Epoch 53/60\n",
            "2/2 [==============================] - 1s 602ms/step - loss: 0.1449 - accuracy: 1.0000 - val_loss: 0.5478 - val_accuracy: 0.7000\n",
            "Epoch 54/60\n",
            "2/2 [==============================] - 0s 416ms/step - loss: 0.1176 - accuracy: 1.0000 - val_loss: 0.6329 - val_accuracy: 0.6000\n",
            "Epoch 55/60\n",
            "2/2 [==============================] - 0s 158ms/step - loss: 0.1274 - accuracy: 1.0000 - val_loss: 0.6279 - val_accuracy: 0.7000\n",
            "Epoch 56/60\n",
            "2/2 [==============================] - 0s 159ms/step - loss: 0.1109 - accuracy: 1.0000 - val_loss: 0.5135 - val_accuracy: 0.6000\n",
            "Epoch 57/60\n",
            "2/2 [==============================] - 0s 157ms/step - loss: 0.1247 - accuracy: 1.0000 - val_loss: 0.4399 - val_accuracy: 0.8000\n",
            "Epoch 58/60\n",
            "2/2 [==============================] - 0s 413ms/step - loss: 0.0940 - accuracy: 1.0000 - val_loss: 0.4162 - val_accuracy: 0.8000\n",
            "Epoch 59/60\n",
            "2/2 [==============================] - 0s 142ms/step - loss: 0.0931 - accuracy: 1.0000 - val_loss: 0.3860 - val_accuracy: 0.8000\n",
            "Epoch 60/60\n",
            "2/2 [==============================] - 0s 414ms/step - loss: 0.0892 - accuracy: 1.0000 - val_loss: 0.3820 - val_accuracy: 0.9000\n"
          ]
        },
        {
          "output_type": "execute_result",
          "data": {
            "text/plain": [
              "<keras.src.callbacks.History at 0x7db6bfd3ca60>"
            ]
          },
          "metadata": {},
          "execution_count": 60
        }
      ]
    },
    {
      "cell_type": "code",
      "source": [
        "cnn.summary()"
      ],
      "metadata": {
        "colab": {
          "base_uri": "https://localhost:8080/"
        },
        "id": "GwLC86O1Iez1",
        "outputId": "c561d351-238e-4053-86ae-4acd2c130262"
      },
      "execution_count": 61,
      "outputs": [
        {
          "output_type": "stream",
          "name": "stdout",
          "text": [
            "Model: \"sequential_1\"\n",
            "_________________________________________________________________\n",
            " Layer (type)                Output Shape              Param #   \n",
            "=================================================================\n",
            " conv2d_1 (Conv2D)           (None, 62, 62, 32)        896       \n",
            "                                                                 \n",
            " max_pooling2d_1 (MaxPoolin  (None, 31, 31, 32)        0         \n",
            " g2D)                                                            \n",
            "                                                                 \n",
            " flatten_1 (Flatten)         (None, 30752)             0         \n",
            "                                                                 \n",
            " dense_2 (Dense)             (None, 128)               3936384   \n",
            "                                                                 \n",
            " dense_3 (Dense)             (None, 1)                 129       \n",
            "                                                                 \n",
            "=================================================================\n",
            "Total params: 3937409 (15.02 MB)\n",
            "Trainable params: 3937409 (15.02 MB)\n",
            "Non-trainable params: 0 (0.00 Byte)\n",
            "_________________________________________________________________\n"
          ]
        }
      ]
    },
    {
      "cell_type": "code",
      "source": [
        "cnn.save(f'{os.getcwd()}/NCC_data/ncc_model.h5')"
      ],
      "metadata": {
        "id": "Kj4pi28wMfvf"
      },
      "execution_count": 64,
      "outputs": []
    },
    {
      "cell_type": "code",
      "source": [
        "def preprocess_image(path):\n",
        "  img_path = image.load_img(path, target_size=(64, 64))\n",
        "  img_array = image.img_to_array(img_path)\n",
        "  img_array = np.expand_dims(img_array, axis=0)\n",
        "  img_array = img_array/255.0\n",
        "  return img_array"
      ],
      "metadata": {
        "id": "aLlByXBxOQIx"
      },
      "execution_count": 72,
      "outputs": []
    },
    {
      "cell_type": "code",
      "source": [
        "predictions = cnn.predict(preprocess_image('/content/NCC_data/test_data/naira/1000 naira back 2.PNG'))"
      ],
      "metadata": {
        "colab": {
          "base_uri": "https://localhost:8080/"
        },
        "id": "ExMTDn59Qtvv",
        "outputId": "724f1d4c-4eb5-473b-f056-1adb22469f9f"
      },
      "execution_count": 83,
      "outputs": [
        {
          "output_type": "stream",
          "name": "stdout",
          "text": [
            "1/1 [==============================] - 0s 27ms/step\n"
          ]
        }
      ]
    },
    {
      "cell_type": "code",
      "source": [
        "# Since you're using sigmoid activation, predictions will be probabilities\n",
        "# Assuming a binary classification task\n",
        "\n",
        "# LABELS - naira == 0, others == 1\n",
        "\n",
        "import math\n",
        "\n",
        "if predictions[0] > 0.5:\n",
        "    predicted_class = 1  # Class 1\n",
        "else:\n",
        "    predicted_class = 0  # Class 0\n",
        "\n",
        "confidence = predictions[0]\n",
        "\n",
        "print(f\"Predicted Class: {predicted_class}\")\n",
        "print(f\"Confidence: {confidence}\")\n"
      ],
      "metadata": {
        "colab": {
          "base_uri": "https://localhost:8080/"
        },
        "id": "0DfRFJ_dRX6s",
        "outputId": "f1ed5425-fa6d-4ff2-d3db-fd618df35aac"
      },
      "execution_count": 84,
      "outputs": [
        {
          "output_type": "stream",
          "name": "stdout",
          "text": [
            "Predicted Class: 0\n",
            "Confidence: [0.36505264]\n"
          ]
        }
      ]
    },
    {
      "cell_type": "code",
      "source": [
        "# Credits:\n",
        "\n",
        "# Lare Adeola (2024)\n",
        "# Naira Currency Counterfeit Model.\n"
      ],
      "metadata": {
        "id": "ZC_i9AozNRFM"
      },
      "execution_count": 63,
      "outputs": []
    }
  ]
}