{
  "nbformat": 4,
  "nbformat_minor": 0,
  "metadata": {
    "colab": {
      "provenance": [],
      "authorship_tag": "ABX9TyMLr9L6+lz5RvGkRrBbFsSm",
      "include_colab_link": true
    },
    "kernelspec": {
      "name": "python3",
      "display_name": "Python 3"
    },
    "language_info": {
      "name": "python"
    }
  },
  "cells": [
    {
      "cell_type": "markdown",
      "metadata": {
        "id": "view-in-github",
        "colab_type": "text"
      },
      "source": [
        "<a href=\"https://colab.research.google.com/github/laresamdeola/Computer-Vision/blob/main/Fractures_CNN_Model.ipynb\" target=\"_parent\"><img src=\"https://colab.research.google.com/assets/colab-badge.svg\" alt=\"Open In Colab\"/></a>"
      ]
    },
    {
      "cell_type": "code",
      "execution_count": 197,
      "metadata": {
        "id": "6QvDEEENF7Re"
      },
      "outputs": [],
      "source": [
        "import numpy as np\n",
        "import pandas as pd\n",
        "import matplotlib.pyplot as plt\n",
        "import keras\n",
        "import tensorflow as tf\n",
        "from keras.preprocessing.image import ImageDataGenerator\n",
        "import os\n",
        "import shutil"
      ]
    },
    {
      "cell_type": "markdown",
      "source": [
        "Image Augmentation"
      ],
      "metadata": {
        "id": "b2sUtysTOJoD"
      }
    },
    {
      "cell_type": "code",
      "source": [
        "train_datagen = ImageDataGenerator(\n",
        "    rescale=1./255,\n",
        "    shear_range=0.2,\n",
        "    zoom_range=0.2,\n",
        "    horizontal_flip=True\n",
        ")"
      ],
      "metadata": {
        "id": "DCVsQ9d_GQh7"
      },
      "execution_count": 198,
      "outputs": []
    },
    {
      "cell_type": "code",
      "source": [
        "os.getcwd()"
      ],
      "metadata": {
        "colab": {
          "base_uri": "https://localhost:8080/",
          "height": 36
        },
        "id": "0pHKWjhnS800",
        "outputId": "5bcaea4b-d36d-4129-d684-ff900bb1a33a"
      },
      "execution_count": 199,
      "outputs": [
        {
          "output_type": "execute_result",
          "data": {
            "text/plain": [
              "'/content'"
            ],
            "application/vnd.google.colaboratory.intrinsic+json": {
              "type": "string"
            }
          },
          "metadata": {},
          "execution_count": 199
        }
      ]
    },
    {
      "cell_type": "code",
      "source": [
        "# shutil.rmtree('/content/sample_data/dataset/training_set/.ipynb_checkpoints')"
      ],
      "metadata": {
        "id": "dy3t0cltTi79"
      },
      "execution_count": 200,
      "outputs": []
    },
    {
      "cell_type": "code",
      "source": [
        "train_set = train_datagen.flow_from_directory(\n",
        "    directory='/content/sample_data/dataset/training_set',\n",
        "    target_size=(64, 64),\n",
        "    batch_size=32,\n",
        "    class_mode='binary'\n",
        ")"
      ],
      "metadata": {
        "id": "FazQSWYbGQqm",
        "colab": {
          "base_uri": "https://localhost:8080/"
        },
        "outputId": "e79c4809-1a92-4c44-cd5e-5ade7e07dee2"
      },
      "execution_count": 201,
      "outputs": [
        {
          "output_type": "stream",
          "name": "stdout",
          "text": [
            "Found 16 images belonging to 2 classes.\n"
          ]
        }
      ]
    },
    {
      "cell_type": "code",
      "source": [
        "os.listdir('/content/sample_data/dataset/training_set')"
      ],
      "metadata": {
        "colab": {
          "base_uri": "https://localhost:8080/"
        },
        "id": "G-RX6PQBTU6T",
        "outputId": "29f47054-c2d1-42ef-dc49-6f27bf5c334c"
      },
      "execution_count": 202,
      "outputs": [
        {
          "output_type": "execute_result",
          "data": {
            "text/plain": [
              "['fractured', 'non_fractured']"
            ]
          },
          "metadata": {},
          "execution_count": 202
        }
      ]
    },
    {
      "cell_type": "code",
      "source": [
        "# shutil.rmtree('/content/sample_data/dataset/test_set/.ipynb_checkpoints')"
      ],
      "metadata": {
        "id": "mzM89VA2T02K"
      },
      "execution_count": 203,
      "outputs": []
    },
    {
      "cell_type": "markdown",
      "source": [
        "Image Augmentation for the Test Set"
      ],
      "metadata": {
        "id": "0eE35rx2O5qO"
      }
    },
    {
      "cell_type": "code",
      "source": [
        "test_datagen = ImageDataGenerator(\n",
        "    rescale=1./255\n",
        ")"
      ],
      "metadata": {
        "id": "al9oP4TmGQyp"
      },
      "execution_count": 204,
      "outputs": []
    },
    {
      "cell_type": "code",
      "source": [
        "test_set = test_datagen.flow_from_directory(\n",
        "    directory='/content/sample_data/dataset/test_set',\n",
        "    target_size=(64, 64),\n",
        "    batch_size=32,\n",
        "    class_mode='binary'\n",
        ")"
      ],
      "metadata": {
        "id": "agTYTxdMGQ7J",
        "colab": {
          "base_uri": "https://localhost:8080/"
        },
        "outputId": "9913b5eb-7ec9-4b8e-f953-e822cd04f64a"
      },
      "execution_count": 205,
      "outputs": [
        {
          "output_type": "stream",
          "name": "stdout",
          "text": [
            "Found 20 images belonging to 2 classes.\n"
          ]
        }
      ]
    },
    {
      "cell_type": "code",
      "source": [
        "# class_labels = ['fractured', 'non_fractured']"
      ],
      "metadata": {
        "id": "pDRJGWvdVbPu"
      },
      "execution_count": 206,
      "outputs": []
    },
    {
      "cell_type": "code",
      "source": [
        "# train_labels = keras.utils.to_categorical(train_labels, len(class_labels))\n",
        "# test_labels = keras.utils.to_categorical(test_labels, len(class_labels))"
      ],
      "metadata": {
        "id": "KM_vBd8sVbYf"
      },
      "execution_count": 207,
      "outputs": []
    },
    {
      "cell_type": "markdown",
      "source": [
        "Initialising the CNN"
      ],
      "metadata": {
        "id": "zKaz5P-tQOmp"
      }
    },
    {
      "cell_type": "code",
      "source": [
        "cnn = tf.keras.models.Sequential()"
      ],
      "metadata": {
        "id": "DPz6OjwkP37N"
      },
      "execution_count": 208,
      "outputs": []
    },
    {
      "cell_type": "markdown",
      "source": [
        "Convolution"
      ],
      "metadata": {
        "id": "oa1qAVDiQUCY"
      }
    },
    {
      "cell_type": "code",
      "source": [
        "cnn.add(tf.keras.layers.Conv2D(\n",
        "    filters=32,\n",
        "    kernel_size=3,\n",
        "    activation='relu',\n",
        "    input_shape=[64, 64, 3]\n",
        "))"
      ],
      "metadata": {
        "id": "DKNbuu9rQA8w"
      },
      "execution_count": 209,
      "outputs": []
    },
    {
      "cell_type": "markdown",
      "source": [
        "Pooling"
      ],
      "metadata": {
        "id": "Iri8URJbR4CV"
      }
    },
    {
      "cell_type": "code",
      "source": [
        "cnn.add(tf.keras.layers.MaxPool2D(pool_size=2, strides=2))"
      ],
      "metadata": {
        "id": "4qL2KuyyQWdA"
      },
      "execution_count": 210,
      "outputs": []
    },
    {
      "cell_type": "markdown",
      "source": [
        "2nd Layer"
      ],
      "metadata": {
        "id": "IJIXAfc8S9Jx"
      }
    },
    {
      "cell_type": "code",
      "source": [
        "cnn.add(tf.keras.layers.Conv2D(\n",
        "    filters=32,\n",
        "    kernel_size=3,\n",
        "    activation='relu'\n",
        "))"
      ],
      "metadata": {
        "id": "hy0PLBRFQWkn"
      },
      "execution_count": 211,
      "outputs": []
    },
    {
      "cell_type": "code",
      "source": [
        "cnn.add(tf.keras.layers.MaxPool2D(pool_size=2, strides=2))"
      ],
      "metadata": {
        "id": "j3qPsJjqQWtw"
      },
      "execution_count": 212,
      "outputs": []
    },
    {
      "cell_type": "markdown",
      "source": [
        "Flattening"
      ],
      "metadata": {
        "id": "hp6_SyzHTXrS"
      }
    },
    {
      "cell_type": "code",
      "source": [
        "cnn.add(tf.keras.layers.Flatten())"
      ],
      "metadata": {
        "id": "r-BgMtpFQW70"
      },
      "execution_count": 213,
      "outputs": []
    },
    {
      "cell_type": "markdown",
      "source": [
        "Full Connection"
      ],
      "metadata": {
        "id": "Y6cmP9kCTfj6"
      }
    },
    {
      "cell_type": "code",
      "source": [
        "cnn.add(tf.keras.layers.Dense(units=128, activation='relu'))"
      ],
      "metadata": {
        "id": "sZXna9FRTFLS"
      },
      "execution_count": 214,
      "outputs": []
    },
    {
      "cell_type": "markdown",
      "source": [
        "Output Layer"
      ],
      "metadata": {
        "id": "hvaIdXHNUs91"
      }
    },
    {
      "cell_type": "code",
      "source": [
        "cnn.add(tf.keras.layers.Dense(units=1, activation='sigmoid'))"
      ],
      "metadata": {
        "id": "V2lj2D9sTk-0"
      },
      "execution_count": 215,
      "outputs": []
    },
    {
      "cell_type": "markdown",
      "source": [
        "Compiling the CNN"
      ],
      "metadata": {
        "id": "1OMlE2-Gajuv"
      }
    },
    {
      "cell_type": "code",
      "source": [
        "cnn.compile(optimizer='adam', loss='binary_crossentropy', metrics=['accuracy'])"
      ],
      "metadata": {
        "id": "28KkVNKGTlLS"
      },
      "execution_count": 216,
      "outputs": []
    },
    {
      "cell_type": "markdown",
      "source": [
        "Training the CNN on the Training set"
      ],
      "metadata": {
        "id": "M-fPRMTAaxeA"
      }
    },
    {
      "cell_type": "code",
      "source": [
        "cnn.fit(x=train_set, validation_data=test_set, epochs=15)"
      ],
      "metadata": {
        "id": "Hv9Nl-fqTlZ-",
        "colab": {
          "base_uri": "https://localhost:8080/"
        },
        "outputId": "86307733-54ee-4b0d-a601-fc74dde7a3ff"
      },
      "execution_count": null,
      "outputs": [
        {
          "output_type": "stream",
          "name": "stdout",
          "text": [
            "Epoch 1/15\n",
            "1/1 [==============================] - 5s 5s/step - loss: 0.6908 - accuracy: 0.5000 - val_loss: 0.6722 - val_accuracy: 0.6500\n",
            "Epoch 2/15\n",
            "1/1 [==============================] - 2s 2s/step - loss: 0.6268 - accuracy: 0.7500 - val_loss: 0.6609 - val_accuracy: 0.5500\n",
            "Epoch 3/15\n",
            "1/1 [==============================] - 4s 4s/step - loss: 0.5009 - accuracy: 0.8125 - val_loss: 0.6947 - val_accuracy: 0.6500\n",
            "Epoch 4/15\n",
            "1/1 [==============================] - 2s 2s/step - loss: 0.4128 - accuracy: 0.9375 - val_loss: 0.6997 - val_accuracy: 0.6500\n",
            "Epoch 5/15\n",
            "1/1 [==============================] - 2s 2s/step - loss: 0.3771 - accuracy: 0.8750 - val_loss: 0.7945 - val_accuracy: 0.5500\n",
            "Epoch 6/15\n",
            "1/1 [==============================] - 2s 2s/step - loss: 0.3811 - accuracy: 0.8125 - val_loss: 0.7137 - val_accuracy: 0.7000\n",
            "Epoch 7/15\n",
            "1/1 [==============================] - 2s 2s/step - loss: 0.2365 - accuracy: 0.9375 - val_loss: 0.7573 - val_accuracy: 0.6500\n",
            "Epoch 8/15\n",
            "1/1 [==============================] - 4s 4s/step - loss: 0.1918 - accuracy: 1.0000 - val_loss: 0.6982 - val_accuracy: 0.7000\n",
            "Epoch 9/15\n",
            "1/1 [==============================] - 2s 2s/step - loss: 0.1682 - accuracy: 1.0000 - val_loss: 0.7565 - val_accuracy: 0.6500\n",
            "Epoch 10/15\n",
            "1/1 [==============================] - 2s 2s/step - loss: 0.1071 - accuracy: 0.9375 - val_loss: 0.8477 - val_accuracy: 0.6500\n",
            "Epoch 11/15\n",
            "1/1 [==============================] - ETA: 0s - loss: 0.1503 - accuracy: 0.9375"
          ]
        }
      ]
    },
    {
      "cell_type": "code",
      "source": [
        "# score = cnn.evaluate(test_set, test_labels, verbose=1)\n",
        "# print(\"Test Loss:\", score[0])\n",
        "# print(\"Test Accuracy:\", score[1])"
      ],
      "metadata": {
        "id": "A50_piADUuxC"
      },
      "execution_count": null,
      "outputs": []
    },
    {
      "cell_type": "code",
      "source": [
        "train_set.class_indices"
      ],
      "metadata": {
        "id": "H1eb5lpAWtY3"
      },
      "execution_count": null,
      "outputs": []
    },
    {
      "cell_type": "markdown",
      "source": [
        "Making a single prediction"
      ],
      "metadata": {
        "id": "IC-dSsJmbkU5"
      }
    },
    {
      "cell_type": "code",
      "source": [
        "from keras.preprocessing import image\n",
        "\n",
        "prediction = None\n",
        "test_image = image.load_img('/content/sample_data/dataset/test_set/fractured/IMG0000143.jpg', target_size=(64,64))\n",
        "test_image = image.img_to_array(test_image)\n",
        "test_image = np.expand_dims(test_image, axis=0)\n",
        "result = cnn.predict(test_image)\n",
        "train_set.class_indices\n",
        "if result[0][0] == 1:\n",
        "  prediction = 'non_fractured'\n",
        "else:\n",
        "  prediction = 'fractured'"
      ],
      "metadata": {
        "id": "6oD_MUsTTlpN"
      },
      "execution_count": null,
      "outputs": []
    },
    {
      "cell_type": "code",
      "source": [
        "print(prediction)"
      ],
      "metadata": {
        "id": "57QPJMUk7vy9"
      },
      "execution_count": null,
      "outputs": []
    }
  ]
}