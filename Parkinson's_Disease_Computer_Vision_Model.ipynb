{
  "nbformat": 4,
  "nbformat_minor": 0,
  "metadata": {
    "colab": {
      "provenance": [],
      "authorship_tag": "ABX9TyNni0POGa81mIIn6wF+xyha",
      "include_colab_link": true
    },
    "kernelspec": {
      "name": "python3",
      "display_name": "Python 3"
    },
    "language_info": {
      "name": "python"
    }
  },
  "cells": [
    {
      "cell_type": "markdown",
      "metadata": {
        "id": "view-in-github",
        "colab_type": "text"
      },
      "source": [
        "<a href=\"https://colab.research.google.com/github/laresamdeola/Computer-Vision/blob/main/Parkinson's_Disease_Computer_Vision_Model.ipynb\" target=\"_parent\"><img src=\"https://colab.research.google.com/assets/colab-badge.svg\" alt=\"Open In Colab\"/></a>"
      ]
    },
    {
      "cell_type": "code",
      "execution_count": null,
      "metadata": {
        "id": "SE3I1SMLGcpV"
      },
      "outputs": [],
      "source": [
        "import numpy as np\n",
        "import pandas as pd\n",
        "import tensorflow as tf\n",
        "from keras.preprocessing.image import ImageDataGenerator"
      ]
    },
    {
      "cell_type": "code",
      "source": [
        "tf.__version__"
      ],
      "metadata": {
        "colab": {
          "base_uri": "https://localhost:8080/",
          "height": 35
        },
        "id": "T0dmETh6G75H",
        "outputId": "64a62bfc-30f9-4c26-8bda-7026b17a8b16"
      },
      "execution_count": null,
      "outputs": [
        {
          "output_type": "execute_result",
          "data": {
            "text/plain": [
              "'2.15.0'"
            ],
            "application/vnd.google.colaboratory.intrinsic+json": {
              "type": "string"
            }
          },
          "metadata": {},
          "execution_count": 2
        }
      ]
    },
    {
      "cell_type": "code",
      "source": [
        "import os\n",
        "import shutil"
      ],
      "metadata": {
        "id": "zOdgydoeJcQF"
      },
      "execution_count": null,
      "outputs": []
    },
    {
      "cell_type": "code",
      "source": [
        "os.getcwd()"
      ],
      "metadata": {
        "colab": {
          "base_uri": "https://localhost:8080/",
          "height": 35
        },
        "id": "cLW37VPSJeU_",
        "outputId": "e51915d3-f77e-4db9-bb57-9222c351f161"
      },
      "execution_count": null,
      "outputs": [
        {
          "output_type": "execute_result",
          "data": {
            "text/plain": [
              "'/content'"
            ],
            "application/vnd.google.colaboratory.intrinsic+json": {
              "type": "string"
            }
          },
          "metadata": {},
          "execution_count": 4
        }
      ]
    },
    {
      "cell_type": "code",
      "source": [
        "os.listdir('Parkinson_Data')"
      ],
      "metadata": {
        "colab": {
          "base_uri": "https://localhost:8080/"
        },
        "id": "KP76YLNkRPNP",
        "outputId": "4e3b2fe0-713e-4cd4-9bdd-fd92644003e0"
      },
      "execution_count": null,
      "outputs": [
        {
          "output_type": "execute_result",
          "data": {
            "text/plain": [
              "['train_data', 'test_data', '.ipynb_checkpoints']"
            ]
          },
          "metadata": {},
          "execution_count": 5
        }
      ]
    },
    {
      "cell_type": "code",
      "source": [
        "shutil.rmtree('Parkinson_Data/.ipynb_checkpoints')"
      ],
      "metadata": {
        "id": "DshLu_OIRVwq"
      },
      "execution_count": null,
      "outputs": []
    },
    {
      "cell_type": "code",
      "source": [
        "os.listdir('Parkinson_Data')"
      ],
      "metadata": {
        "colab": {
          "base_uri": "https://localhost:8080/"
        },
        "id": "eI95taKSRhTs",
        "outputId": "7cffdc41-28df-4a36-b31f-311ce461dacf"
      },
      "execution_count": null,
      "outputs": [
        {
          "output_type": "execute_result",
          "data": {
            "text/plain": [
              "['train_data', 'test_data']"
            ]
          },
          "metadata": {},
          "execution_count": 7
        }
      ]
    },
    {
      "cell_type": "code",
      "source": [
        "os.listdir('Parkinson_Data/train_data')\n",
        "os.listdir('Parkinson_Data/test_data')"
      ],
      "metadata": {
        "colab": {
          "base_uri": "https://localhost:8080/"
        },
        "id": "LMoK83soRs3F",
        "outputId": "3bffcd99-1687-4384-f2d2-318ee59c3915"
      },
      "execution_count": null,
      "outputs": [
        {
          "output_type": "execute_result",
          "data": {
            "text/plain": [
              "['pd', 'control', '.ipynb_checkpoints']"
            ]
          },
          "metadata": {},
          "execution_count": 8
        }
      ]
    },
    {
      "cell_type": "code",
      "source": [
        "shutil.rmtree('Parkinson_Data/train_data/.ipynb_checkpoints')"
      ],
      "metadata": {
        "id": "ZI7p2Sj8R1dS"
      },
      "execution_count": null,
      "outputs": []
    },
    {
      "cell_type": "code",
      "source": [
        "shutil.rmtree('Parkinson_Data/test_data/.ipynb_checkpoints')"
      ],
      "metadata": {
        "id": "IsTxDpeQR9El"
      },
      "execution_count": null,
      "outputs": []
    },
    {
      "cell_type": "code",
      "source": [
        "os.listdir('Parkinson_Data/train_data')\n",
        "os.listdir('Parkinson_Data/test_data')"
      ],
      "metadata": {
        "colab": {
          "base_uri": "https://localhost:8080/"
        },
        "id": "QDZIO2OkSBS9",
        "outputId": "cf6c709e-820f-4415-aa1b-c08af7650ab5"
      },
      "execution_count": null,
      "outputs": [
        {
          "output_type": "execute_result",
          "data": {
            "text/plain": [
              "['pd', 'control']"
            ]
          },
          "metadata": {},
          "execution_count": 11
        }
      ]
    },
    {
      "cell_type": "code",
      "source": [
        "train_datagen = ImageDataGenerator(\n",
        "    rescale=1./255,\n",
        "    shear_range=0.2,\n",
        "    zoom_range=0.2,\n",
        "    horizontal_flip=True\n",
        ")\n",
        "\n",
        "train_set = train_datagen.flow_from_directory(\n",
        "    'Parkinson_Data/train_data',\n",
        "    target_size=(64,64),\n",
        "    batch_size=32,\n",
        "    class_mode='binary'\n",
        ")\n",
        "\n",
        "#"
      ],
      "metadata": {
        "colab": {
          "base_uri": "https://localhost:8080/"
        },
        "id": "hNTggVAnHKTf",
        "outputId": "3f078365-dd0d-4f7a-d0d6-14fa64a40b0d"
      },
      "execution_count": null,
      "outputs": [
        {
          "output_type": "stream",
          "name": "stdout",
          "text": [
            "Found 34 images belonging to 2 classes.\n"
          ]
        }
      ]
    },
    {
      "cell_type": "code",
      "source": [
        "print(train_set.labels)"
      ],
      "metadata": {
        "colab": {
          "base_uri": "https://localhost:8080/"
        },
        "id": "29rAEpIyQqiE",
        "outputId": "aeca989b-f854-41b7-b713-c3afaa09f381"
      },
      "execution_count": null,
      "outputs": [
        {
          "output_type": "stream",
          "name": "stdout",
          "text": [
            "[0 0 0 0 0 0 0 0 0 0 0 0 0 0 0 0 1 1 1 1 1 1 1 1 1 1 1 1 1 1 1 1 1 1]\n"
          ]
        }
      ]
    },
    {
      "cell_type": "code",
      "source": [
        "test_datagen = ImageDataGenerator(\n",
        "    rescale=1./255\n",
        ")\n",
        "\n",
        "test_set = test_datagen.flow_from_directory(\n",
        "    'Parkinson_Data/test_data',\n",
        "    target_size=(64,64),\n",
        "    batch_size=32,\n",
        "    class_mode='binary'\n",
        ")"
      ],
      "metadata": {
        "colab": {
          "base_uri": "https://localhost:8080/"
        },
        "id": "csaPs3OIFAbE",
        "outputId": "7474fa3a-aca0-4b92-eaaa-c96c7e2268aa"
      },
      "execution_count": null,
      "outputs": [
        {
          "output_type": "stream",
          "name": "stdout",
          "text": [
            "Found 8 images belonging to 2 classes.\n"
          ]
        }
      ]
    },
    {
      "cell_type": "code",
      "source": [
        "cnn = tf.keras.models.Sequential()"
      ],
      "metadata": {
        "id": "CArqD7OFFZgT"
      },
      "execution_count": null,
      "outputs": []
    },
    {
      "cell_type": "code",
      "source": [
        "cnn.add(tf.keras.layers.Conv2D(filters=32,\n",
        "                               kernel_size=3,\n",
        "                               activation='relu',\n",
        "                               input_shape=[64,64,3]))"
      ],
      "metadata": {
        "id": "xNJvHDtNGT7f"
      },
      "execution_count": null,
      "outputs": []
    },
    {
      "cell_type": "code",
      "source": [
        "cnn.add(tf.keras.layers.MaxPool2D(pool_size=2, strides=2))"
      ],
      "metadata": {
        "id": "JA1D17JYFZ6S"
      },
      "execution_count": null,
      "outputs": []
    },
    {
      "cell_type": "code",
      "source": [
        "cnn.add(tf.keras.layers.Flatten())"
      ],
      "metadata": {
        "id": "MCR24kywHwF5"
      },
      "execution_count": null,
      "outputs": []
    },
    {
      "cell_type": "code",
      "source": [
        "cnn.add(tf.keras.layers.Dense(units=128, activation='relu'))"
      ],
      "metadata": {
        "id": "nqcB2VldH1at"
      },
      "execution_count": null,
      "outputs": []
    },
    {
      "cell_type": "code",
      "source": [
        "cnn.add(tf.keras.layers.Dense(units=1, activation='sigmoid'))"
      ],
      "metadata": {
        "id": "5MeXC8AoH_I_"
      },
      "execution_count": null,
      "outputs": []
    },
    {
      "cell_type": "code",
      "source": [
        "cnn.compile(optimizer='adam', loss='binary_crossentropy', metrics=['accuracy'])"
      ],
      "metadata": {
        "id": "_FzKeE29IJU2"
      },
      "execution_count": null,
      "outputs": []
    },
    {
      "cell_type": "code",
      "source": [
        "cnn.fit(x=train_set, validation_data=test_set, epochs=10)"
      ],
      "metadata": {
        "colab": {
          "base_uri": "https://localhost:8080/"
        },
        "id": "VtfAimEjITe8",
        "outputId": "168b7e68-303f-4140-afdf-e782f4b1e6e6"
      },
      "execution_count": null,
      "outputs": [
        {
          "output_type": "stream",
          "name": "stdout",
          "text": [
            "Epoch 1/10\n",
            "2/2 [==============================] - 2s 724ms/step - loss: 1.3329 - accuracy: 0.4412 - val_loss: 0.4964 - val_accuracy: 0.7500\n",
            "Epoch 2/10\n",
            "2/2 [==============================] - 1s 201ms/step - loss: 0.6816 - accuracy: 0.5882 - val_loss: 0.5994 - val_accuracy: 0.6250\n",
            "Epoch 3/10\n",
            "2/2 [==============================] - 1s 223ms/step - loss: 0.6970 - accuracy: 0.5882 - val_loss: 0.6803 - val_accuracy: 0.6250\n",
            "Epoch 4/10\n",
            "2/2 [==============================] - 1s 599ms/step - loss: 0.7084 - accuracy: 0.5294 - val_loss: 0.7202 - val_accuracy: 0.6250\n",
            "Epoch 5/10\n",
            "2/2 [==============================] - 0s 153ms/step - loss: 0.6960 - accuracy: 0.5588 - val_loss: 0.6205 - val_accuracy: 0.6250\n",
            "Epoch 6/10\n",
            "2/2 [==============================] - 0s 173ms/step - loss: 0.5480 - accuracy: 0.5882 - val_loss: 0.5292 - val_accuracy: 0.6250\n",
            "Epoch 7/10\n",
            "2/2 [==============================] - 0s 174ms/step - loss: 0.5598 - accuracy: 0.6471 - val_loss: 0.4908 - val_accuracy: 0.7500\n",
            "Epoch 8/10\n",
            "2/2 [==============================] - 0s 257ms/step - loss: 0.4761 - accuracy: 0.7941 - val_loss: 0.4592 - val_accuracy: 0.8750\n",
            "Epoch 9/10\n",
            "2/2 [==============================] - 0s 143ms/step - loss: 0.4690 - accuracy: 0.9706 - val_loss: 0.4366 - val_accuracy: 0.7500\n",
            "Epoch 10/10\n",
            "2/2 [==============================] - 0s 149ms/step - loss: 0.4522 - accuracy: 0.8529 - val_loss: 0.4059 - val_accuracy: 0.7500\n"
          ]
        },
        {
          "output_type": "execute_result",
          "data": {
            "text/plain": [
              "<keras.src.callbacks.History at 0x786264d78940>"
            ]
          },
          "metadata": {},
          "execution_count": 23
        }
      ]
    },
    {
      "cell_type": "code",
      "source": [
        "cnn.summary()"
      ],
      "metadata": {
        "colab": {
          "base_uri": "https://localhost:8080/"
        },
        "id": "GwLC86O1Iez1",
        "outputId": "51309a1c-eb7d-4ddd-c103-928d5ede0a30"
      },
      "execution_count": null,
      "outputs": [
        {
          "output_type": "stream",
          "name": "stdout",
          "text": [
            "Model: \"sequential\"\n",
            "_________________________________________________________________\n",
            " Layer (type)                Output Shape              Param #   \n",
            "=================================================================\n",
            " conv2d (Conv2D)             (None, 62, 62, 32)        896       \n",
            "                                                                 \n",
            " max_pooling2d (MaxPooling2  (None, 31, 31, 32)        0         \n",
            " D)                                                              \n",
            "                                                                 \n",
            " flatten (Flatten)           (None, 30752)             0         \n",
            "                                                                 \n",
            " dense (Dense)               (None, 128)               3936384   \n",
            "                                                                 \n",
            " dense_1 (Dense)             (None, 1)                 129       \n",
            "                                                                 \n",
            "=================================================================\n",
            "Total params: 3937409 (15.02 MB)\n",
            "Trainable params: 3937409 (15.02 MB)\n",
            "Non-trainable params: 0 (0.00 Byte)\n",
            "_________________________________________________________________\n"
          ]
        }
      ]
    },
    {
      "cell_type": "code",
      "source": [
        "# Credits:\n",
        "\n",
        "# Lare Adeola, Celestine Iwendi, Abbas Aamir (2023).\n",
        "# Creating a Sensor System for Safe Motor Navigation: HOMESWEET.\n",
        "# Emerging Trends in IoT and Computing Technologies\n",
        "# Proceedings of the International Conference on Emerging Trends\n",
        "# in IoT and Computing Technologies, Chapter 79.\n"
      ],
      "metadata": {
        "id": "ZC_i9AozNRFM"
      },
      "execution_count": null,
      "outputs": []
    }
  ]
}