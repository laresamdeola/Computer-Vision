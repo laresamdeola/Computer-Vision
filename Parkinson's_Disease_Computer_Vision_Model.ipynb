{
  "nbformat": 4,
  "nbformat_minor": 0,
  "metadata": {
    "colab": {
      "provenance": [],
      "gpuType": "T4",
      "authorship_tag": "ABX9TyMoad0MJIi6iF0xtUPGAkTF",
      "include_colab_link": true
    },
    "kernelspec": {
      "name": "python3",
      "display_name": "Python 3"
    },
    "language_info": {
      "name": "python"
    },
    "accelerator": "GPU"
  },
  "cells": [
    {
      "cell_type": "markdown",
      "metadata": {
        "id": "view-in-github",
        "colab_type": "text"
      },
      "source": [
        "<a href=\"https://colab.research.google.com/github/laresamdeola/Computer-Vision/blob/main/Parkinson's_Disease_Computer_Vision_Model.ipynb\" target=\"_parent\"><img src=\"https://colab.research.google.com/assets/colab-badge.svg\" alt=\"Open In Colab\"/></a>"
      ]
    },
    {
      "cell_type": "code",
      "execution_count": 74,
      "metadata": {
        "id": "SE3I1SMLGcpV"
      },
      "outputs": [],
      "source": [
        "import numpy as np\n",
        "import pandas as pd\n",
        "import tensorflow as tf\n",
        "from keras.preprocessing.image import ImageDataGenerator\n",
        "import keras"
      ]
    },
    {
      "cell_type": "code",
      "source": [
        "tf.__version__"
      ],
      "metadata": {
        "colab": {
          "base_uri": "https://localhost:8080/",
          "height": 35
        },
        "id": "T0dmETh6G75H",
        "outputId": "12e16cac-685e-48c9-af83-03c7451dc87e"
      },
      "execution_count": 75,
      "outputs": [
        {
          "output_type": "execute_result",
          "data": {
            "text/plain": [
              "'2.15.0'"
            ],
            "application/vnd.google.colaboratory.intrinsic+json": {
              "type": "string"
            }
          },
          "metadata": {},
          "execution_count": 75
        }
      ]
    },
    {
      "cell_type": "code",
      "source": [
        "import os\n",
        "import shutil"
      ],
      "metadata": {
        "id": "zOdgydoeJcQF"
      },
      "execution_count": 76,
      "outputs": []
    },
    {
      "cell_type": "code",
      "source": [
        "os.getcwd()"
      ],
      "metadata": {
        "colab": {
          "base_uri": "https://localhost:8080/",
          "height": 35
        },
        "id": "cLW37VPSJeU_",
        "outputId": "0c18d469-873f-4fcc-e0d6-e63f926742d5"
      },
      "execution_count": 77,
      "outputs": [
        {
          "output_type": "execute_result",
          "data": {
            "text/plain": [
              "'/content'"
            ],
            "application/vnd.google.colaboratory.intrinsic+json": {
              "type": "string"
            }
          },
          "metadata": {},
          "execution_count": 77
        }
      ]
    },
    {
      "cell_type": "markdown",
      "source": [
        "Folder Structure"
      ],
      "metadata": {
        "id": "phbpfWmJDVto"
      }
    },
    {
      "cell_type": "code",
      "source": [
        "# --content\n",
        "#   --Parkinson_Data\n",
        "#     --test_data\n",
        "#       --control\n",
        "#       --pd\n",
        "#     --train_data\n",
        "#       --control\n",
        "#       --pd"
      ],
      "metadata": {
        "id": "krJ2QWYJDVDN"
      },
      "execution_count": null,
      "outputs": []
    },
    {
      "cell_type": "code",
      "source": [
        "os.listdir('Parkinson_Data')"
      ],
      "metadata": {
        "colab": {
          "base_uri": "https://localhost:8080/"
        },
        "id": "KP76YLNkRPNP",
        "outputId": "bed3d0c0-e3ea-46c7-d541-39e8f1deee67"
      },
      "execution_count": 78,
      "outputs": [
        {
          "output_type": "execute_result",
          "data": {
            "text/plain": [
              "['test_data', 'train_data']"
            ]
          },
          "metadata": {},
          "execution_count": 78
        }
      ]
    },
    {
      "cell_type": "code",
      "source": [
        "# Uncomment and Run this cell once\n",
        "\n",
        "# shutil.rmtree('Parkinson_Data/.ipynb_checkpoints')\n",
        "# shutil.rmtree('Parkinson_Data/train_data/.ipynb_checkpoints')\n",
        "# shutil.rmtree('Parkinson_Data/test_data/.ipynb_checkpoints')"
      ],
      "metadata": {
        "id": "DshLu_OIRVwq"
      },
      "execution_count": 79,
      "outputs": []
    },
    {
      "cell_type": "code",
      "source": [
        "os.listdir('Parkinson_Data')"
      ],
      "metadata": {
        "colab": {
          "base_uri": "https://localhost:8080/"
        },
        "id": "eI95taKSRhTs",
        "outputId": "60b0f98e-7242-4dd7-ca7e-fd96e3048636"
      },
      "execution_count": 80,
      "outputs": [
        {
          "output_type": "execute_result",
          "data": {
            "text/plain": [
              "['test_data', 'train_data']"
            ]
          },
          "metadata": {},
          "execution_count": 80
        }
      ]
    },
    {
      "cell_type": "code",
      "source": [
        "os.listdir('Parkinson_Data/train_data')\n",
        "os.listdir('Parkinson_Data/test_data')"
      ],
      "metadata": {
        "colab": {
          "base_uri": "https://localhost:8080/"
        },
        "id": "LMoK83soRs3F",
        "outputId": "97ab5e6a-3ee3-4dce-9fb5-9d118378641f"
      },
      "execution_count": 81,
      "outputs": [
        {
          "output_type": "execute_result",
          "data": {
            "text/plain": [
              "['control', 'pd']"
            ]
          },
          "metadata": {},
          "execution_count": 81
        }
      ]
    },
    {
      "cell_type": "code",
      "source": [
        "os.listdir('Parkinson_Data/train_data')\n",
        "os.listdir('Parkinson_Data/test_data')"
      ],
      "metadata": {
        "colab": {
          "base_uri": "https://localhost:8080/"
        },
        "id": "QDZIO2OkSBS9",
        "outputId": "7052709d-d061-4cc7-dab0-880b524b57ef"
      },
      "execution_count": 82,
      "outputs": [
        {
          "output_type": "execute_result",
          "data": {
            "text/plain": [
              "['control', 'pd']"
            ]
          },
          "metadata": {},
          "execution_count": 82
        }
      ]
    },
    {
      "cell_type": "markdown",
      "source": [
        "Image Augmentation - for preventing overfitting"
      ],
      "metadata": {
        "id": "gKdOXYUhClQW"
      }
    },
    {
      "cell_type": "code",
      "source": [
        "# Image size increased to 124x124 because of the InceptionV3 Model (min. image size - 75x75) and Xception (min. image size 71x71)\n",
        "\n",
        "train_datagen = ImageDataGenerator(\n",
        "    rescale=1./255,\n",
        "    shear_range=0.2,\n",
        "    zoom_range=0.2,\n",
        "    horizontal_flip=True\n",
        ")\n",
        "\n",
        "train_set = train_datagen.flow_from_directory(\n",
        "    'Parkinson_Data/train_data',\n",
        "    target_size=(124,124),\n",
        "    batch_size=32,\n",
        "    class_mode='binary'\n",
        ")\n",
        "\n",
        "#"
      ],
      "metadata": {
        "colab": {
          "base_uri": "https://localhost:8080/"
        },
        "id": "hNTggVAnHKTf",
        "outputId": "6461ad42-4d0c-4c2b-f7fc-e7dabca68d25"
      },
      "execution_count": 83,
      "outputs": [
        {
          "output_type": "stream",
          "name": "stdout",
          "text": [
            "Found 34 images belonging to 2 classes.\n"
          ]
        }
      ]
    },
    {
      "cell_type": "code",
      "source": [
        "print(train_set.labels)"
      ],
      "metadata": {
        "colab": {
          "base_uri": "https://localhost:8080/"
        },
        "id": "29rAEpIyQqiE",
        "outputId": "9be68f52-3a8a-444a-d4d4-7e1ac19f0758"
      },
      "execution_count": 84,
      "outputs": [
        {
          "output_type": "stream",
          "name": "stdout",
          "text": [
            "[0 0 0 0 0 0 0 0 0 0 0 0 0 0 0 0 1 1 1 1 1 1 1 1 1 1 1 1 1 1 1 1 1 1]\n"
          ]
        }
      ]
    },
    {
      "cell_type": "code",
      "source": [
        "test_datagen = ImageDataGenerator(\n",
        "    rescale=1./255\n",
        ")\n",
        "\n",
        "test_set = test_datagen.flow_from_directory(\n",
        "    'Parkinson_Data/test_data',\n",
        "    target_size=(124,124),\n",
        "    batch_size=32,\n",
        "    class_mode='binary'\n",
        ")"
      ],
      "metadata": {
        "colab": {
          "base_uri": "https://localhost:8080/"
        },
        "id": "csaPs3OIFAbE",
        "outputId": "282bf747-086e-4c4a-b0fb-0a12d568642c"
      },
      "execution_count": 85,
      "outputs": [
        {
          "output_type": "stream",
          "name": "stdout",
          "text": [
            "Found 8 images belonging to 2 classes.\n"
          ]
        }
      ]
    },
    {
      "cell_type": "markdown",
      "source": [
        "CNN Model - using the Keras Sequential Class"
      ],
      "metadata": {
        "id": "HRtOESWWCuNW"
      }
    },
    {
      "cell_type": "code",
      "source": [
        "cnn = tf.keras.models.Sequential()"
      ],
      "metadata": {
        "id": "CArqD7OFFZgT"
      },
      "execution_count": 86,
      "outputs": []
    },
    {
      "cell_type": "markdown",
      "source": [
        "  Add the Convolutional Layer"
      ],
      "metadata": {
        "id": "hDOA4r1nC0NX"
      }
    },
    {
      "cell_type": "code",
      "source": [
        "cnn.add(tf.keras.layers.Conv2D(filters=32,\n",
        "                               kernel_size=3,\n",
        "                               activation='relu',\n",
        "                               input_shape=[124,124,3]))"
      ],
      "metadata": {
        "id": "xNJvHDtNGT7f"
      },
      "execution_count": 87,
      "outputs": []
    },
    {
      "cell_type": "markdown",
      "source": [
        "Add the Pooling Layer"
      ],
      "metadata": {
        "id": "9OntpZV2C3Ds"
      }
    },
    {
      "cell_type": "code",
      "source": [
        "cnn.add(tf.keras.layers.MaxPool2D(pool_size=2, strides=2))"
      ],
      "metadata": {
        "id": "JA1D17JYFZ6S"
      },
      "execution_count": 88,
      "outputs": []
    },
    {
      "cell_type": "markdown",
      "source": [
        "Flatten the layer"
      ],
      "metadata": {
        "id": "7Viz9iBxC5dl"
      }
    },
    {
      "cell_type": "code",
      "source": [
        "cnn.add(tf.keras.layers.Flatten())"
      ],
      "metadata": {
        "id": "MCR24kywHwF5"
      },
      "execution_count": 89,
      "outputs": []
    },
    {
      "cell_type": "code",
      "source": [
        "cnn.add(tf.keras.layers.Dense(units=128, activation='relu'))"
      ],
      "metadata": {
        "id": "nqcB2VldH1at"
      },
      "execution_count": 90,
      "outputs": []
    },
    {
      "cell_type": "code",
      "source": [
        "cnn.add(tf.keras.layers.Dense(units=1, activation='sigmoid'))"
      ],
      "metadata": {
        "id": "5MeXC8AoH_I_"
      },
      "execution_count": 91,
      "outputs": []
    },
    {
      "cell_type": "markdown",
      "source": [
        "Compile the Neural Network"
      ],
      "metadata": {
        "id": "fOL-yIyqC9uH"
      }
    },
    {
      "cell_type": "code",
      "source": [
        "cnn.compile(optimizer='adam', loss='binary_crossentropy', metrics=['accuracy'])"
      ],
      "metadata": {
        "id": "_FzKeE29IJU2"
      },
      "execution_count": 92,
      "outputs": []
    },
    {
      "cell_type": "markdown",
      "source": [
        "Train the Neural Network"
      ],
      "metadata": {
        "id": "PKyfbzkVDBID"
      }
    },
    {
      "cell_type": "code",
      "source": [
        "# When you're training the whole dataset, change the epochs argument to 50 or 100 depending on the val_accuracy\n",
        "\n",
        "cnn.fit(x=train_set, validation_data=test_set, epochs=10)"
      ],
      "metadata": {
        "colab": {
          "base_uri": "https://localhost:8080/"
        },
        "id": "VtfAimEjITe8",
        "outputId": "8cd61cf7-2b1a-4f4b-ba0f-5b5d16a5d62c"
      },
      "execution_count": 93,
      "outputs": [
        {
          "output_type": "stream",
          "name": "stdout",
          "text": [
            "Epoch 1/10\n",
            "2/2 [==============================] - 2s 387ms/step - loss: 1.0002 - accuracy: 0.5000 - val_loss: 0.5366 - val_accuracy: 0.7500\n",
            "Epoch 2/10\n",
            "2/2 [==============================] - 0s 198ms/step - loss: 0.5858 - accuracy: 0.7353 - val_loss: 2.3647 - val_accuracy: 0.6250\n",
            "Epoch 3/10\n",
            "2/2 [==============================] - 0s 55ms/step - loss: 0.7185 - accuracy: 0.7059 - val_loss: 2.5823 - val_accuracy: 0.6250\n",
            "Epoch 4/10\n",
            "2/2 [==============================] - 0s 193ms/step - loss: 0.7965 - accuracy: 0.6471 - val_loss: 2.3188 - val_accuracy: 0.6250\n",
            "Epoch 5/10\n",
            "2/2 [==============================] - 0s 106ms/step - loss: 0.6646 - accuracy: 0.6471 - val_loss: 1.8800 - val_accuracy: 0.6250\n",
            "Epoch 6/10\n",
            "2/2 [==============================] - 0s 195ms/step - loss: 0.3135 - accuracy: 0.8235 - val_loss: 1.6083 - val_accuracy: 0.5000\n",
            "Epoch 7/10\n",
            "2/2 [==============================] - 0s 51ms/step - loss: 0.3256 - accuracy: 0.8824 - val_loss: 1.4948 - val_accuracy: 0.6250\n",
            "Epoch 8/10\n",
            "2/2 [==============================] - 0s 56ms/step - loss: 0.5046 - accuracy: 0.8529 - val_loss: 1.6054 - val_accuracy: 0.6250\n",
            "Epoch 9/10\n",
            "2/2 [==============================] - 0s 208ms/step - loss: 0.2045 - accuracy: 0.8529 - val_loss: 1.7619 - val_accuracy: 0.6250\n",
            "Epoch 10/10\n",
            "2/2 [==============================] - 0s 196ms/step - loss: 0.1739 - accuracy: 1.0000 - val_loss: 1.8299 - val_accuracy: 0.6250\n"
          ]
        },
        {
          "output_type": "execute_result",
          "data": {
            "text/plain": [
              "<keras.src.callbacks.History at 0x78fb362d78b0>"
            ]
          },
          "metadata": {},
          "execution_count": 93
        }
      ]
    },
    {
      "cell_type": "code",
      "source": [
        "print(cnn.input_shape)"
      ],
      "metadata": {
        "colab": {
          "base_uri": "https://localhost:8080/"
        },
        "id": "vKXE6NuMyqyq",
        "outputId": "30fb73b2-b0c6-4286-aaea-3cd30eb91f10"
      },
      "execution_count": 94,
      "outputs": [
        {
          "output_type": "stream",
          "name": "stdout",
          "text": [
            "(None, 124, 124, 3)\n"
          ]
        }
      ]
    },
    {
      "cell_type": "code",
      "source": [
        "cnn.summary()"
      ],
      "metadata": {
        "colab": {
          "base_uri": "https://localhost:8080/"
        },
        "id": "GwLC86O1Iez1",
        "outputId": "4fd55ff9-861b-4215-8e2c-648584d37a10"
      },
      "execution_count": 95,
      "outputs": [
        {
          "output_type": "stream",
          "name": "stdout",
          "text": [
            "Model: \"sequential_1\"\n",
            "_________________________________________________________________\n",
            " Layer (type)                Output Shape              Param #   \n",
            "=================================================================\n",
            " conv2d_1 (Conv2D)           (None, 122, 122, 32)      896       \n",
            "                                                                 \n",
            " max_pooling2d_1 (MaxPoolin  (None, 61, 61, 32)        0         \n",
            " g2D)                                                            \n",
            "                                                                 \n",
            " flatten_1 (Flatten)         (None, 119072)            0         \n",
            "                                                                 \n",
            " dense_16 (Dense)            (None, 128)               15241344  \n",
            "                                                                 \n",
            " dense_17 (Dense)            (None, 1)                 129       \n",
            "                                                                 \n",
            "=================================================================\n",
            "Total params: 15242369 (58.15 MB)\n",
            "Trainable params: 15242369 (58.15 MB)\n",
            "Non-trainable params: 0 (0.00 Byte)\n",
            "_________________________________________________________________\n"
          ]
        }
      ]
    },
    {
      "cell_type": "code",
      "source": [
        "print(train_set.num_classes)"
      ],
      "metadata": {
        "colab": {
          "base_uri": "https://localhost:8080/"
        },
        "id": "Cfh-rnPMxTYw",
        "outputId": "73c5a899-e59a-418f-e608-60ed13141efe"
      },
      "execution_count": 96,
      "outputs": [
        {
          "output_type": "stream",
          "name": "stdout",
          "text": [
            "2\n"
          ]
        }
      ]
    },
    {
      "cell_type": "code",
      "source": [
        "import tensorflow"
      ],
      "metadata": {
        "id": "dpyu7bJ31jNo"
      },
      "execution_count": 97,
      "outputs": []
    },
    {
      "cell_type": "code",
      "source": [
        "from keras.applications import ResNet50, VGG16, InceptionV3, Xception\n",
        "from keras.models import Model\n",
        "from keras.layers import Dense, GlobalAveragePooling2D\n",
        "from keras.optimizers import Adam"
      ],
      "metadata": {
        "id": "tRrIcBzm1eKb"
      },
      "execution_count": 98,
      "outputs": []
    },
    {
      "cell_type": "markdown",
      "source": [
        "ResNet50"
      ],
      "metadata": {
        "id": "rbzUvlgStRf5"
      }
    },
    {
      "cell_type": "code",
      "source": [
        "base_model = ResNet50(weights='imagenet', include_top=False, input_shape=(124, 124, 3))\n",
        "x = base_model.output\n",
        "x = GlobalAveragePooling2D()(x)\n",
        "x = Dense(1024, activation='relu')(x)\n",
        "predictions = Dense(1, activation='sigmoid')(x)\n",
        "resnet50_model = Model(inputs=base_model.input, outputs=predictions)\n",
        "\n",
        "for layer in base_model.layers:\n",
        "    layer.trainable = False\n",
        "\n",
        "resnet50_model.compile(optimizer=Adam(), loss='binary_crossentropy', metrics=['accuracy'])"
      ],
      "metadata": {
        "id": "JeXrnlzdtI_e"
      },
      "execution_count": 99,
      "outputs": []
    },
    {
      "cell_type": "code",
      "source": [
        "# resnet50_model.summary()"
      ],
      "metadata": {
        "id": "0Ib29Jhvyz1g"
      },
      "execution_count": 100,
      "outputs": []
    },
    {
      "cell_type": "code",
      "source": [
        "print(resnet50_model.input)"
      ],
      "metadata": {
        "colab": {
          "base_uri": "https://localhost:8080/"
        },
        "id": "kq7t64aAyCe2",
        "outputId": "862a92f0-e7e9-4e7b-dbc4-7d7e16955f42"
      },
      "execution_count": 101,
      "outputs": [
        {
          "output_type": "stream",
          "name": "stdout",
          "text": [
            "KerasTensor(type_spec=TensorSpec(shape=(None, 124, 124, 3), dtype=tf.float32, name='input_8'), name='input_8', description=\"created by layer 'input_8'\")\n"
          ]
        }
      ]
    },
    {
      "cell_type": "code",
      "source": [
        "steps_per_epoch = max(1, train_set.samples // train_set.batch_size)\n",
        "validation_steps = max(1, test_set.samples // test_set.batch_size)"
      ],
      "metadata": {
        "id": "J34S4fkJ2PTj"
      },
      "execution_count": 102,
      "outputs": []
    },
    {
      "cell_type": "code",
      "source": [
        "history = resnet50_model.fit(\n",
        "    train_set,\n",
        "    steps_per_epoch=steps_per_epoch,\n",
        "    validation_data=test_set,\n",
        "    validation_steps=validation_steps,\n",
        "    epochs=10\n",
        ")"
      ],
      "metadata": {
        "colab": {
          "base_uri": "https://localhost:8080/"
        },
        "id": "NHNFManbwEKE",
        "outputId": "7e8ea4f3-f5c1-4695-b25f-f31cbbc98485"
      },
      "execution_count": 103,
      "outputs": [
        {
          "output_type": "stream",
          "name": "stdout",
          "text": [
            "Epoch 1/10\n",
            "1/1 [==============================] - 6s 6s/step - loss: 0.8953 - accuracy: 0.0000e+00 - val_loss: 0.8776 - val_accuracy: 0.5000\n",
            "Epoch 2/10\n",
            "1/1 [==============================] - 2s 2s/step - loss: 0.8649 - accuracy: 0.5312 - val_loss: 1.0298 - val_accuracy: 0.5000\n",
            "Epoch 3/10\n",
            "1/1 [==============================] - 0s 247ms/step - loss: 1.0664 - accuracy: 0.5000 - val_loss: 0.9534 - val_accuracy: 0.5000\n",
            "Epoch 4/10\n",
            "1/1 [==============================] - 0s 250ms/step - loss: 0.9334 - accuracy: 0.5312 - val_loss: 0.7919 - val_accuracy: 0.5000\n",
            "Epoch 5/10\n",
            "1/1 [==============================] - 0s 237ms/step - loss: 0.8257 - accuracy: 0.5000 - val_loss: 0.6550 - val_accuracy: 0.5000\n",
            "Epoch 6/10\n",
            "1/1 [==============================] - 0s 124ms/step - loss: 0.4486 - accuracy: 1.0000 - val_loss: 0.6317 - val_accuracy: 0.5000\n",
            "Epoch 7/10\n",
            "1/1 [==============================] - 0s 271ms/step - loss: 0.6601 - accuracy: 0.5312 - val_loss: 0.6170 - val_accuracy: 0.5000\n",
            "Epoch 8/10\n",
            "1/1 [==============================] - 0s 242ms/step - loss: 0.6479 - accuracy: 0.5938 - val_loss: 0.6130 - val_accuracy: 0.7500\n",
            "Epoch 9/10\n",
            "1/1 [==============================] - 0s 247ms/step - loss: 0.6299 - accuracy: 0.6562 - val_loss: 0.6127 - val_accuracy: 0.7500\n",
            "Epoch 10/10\n",
            "1/1 [==============================] - 0s 250ms/step - loss: 0.6401 - accuracy: 0.6562 - val_loss: 0.6085 - val_accuracy: 0.7500\n"
          ]
        }
      ]
    },
    {
      "cell_type": "markdown",
      "source": [
        "VGG16"
      ],
      "metadata": {
        "id": "p4wrG5SP4R7Y"
      }
    },
    {
      "cell_type": "code",
      "source": [
        "base_model = VGG16(weights='imagenet', include_top=False, input_shape=(124, 124, 3))\n",
        "x = base_model.output\n",
        "x = GlobalAveragePooling2D()(x)\n",
        "x = Dense(1024, activation='relu')(x)\n",
        "predictions = Dense(1, activation='sigmoid')(x)  # Changed to 1 unit with sigmoid activation\n",
        "vgg16_model = Model(inputs=base_model.input, outputs=predictions)\n",
        "\n",
        "for layer in base_model.layers:\n",
        "    layer.trainable = False\n",
        "\n",
        "vgg16_model.compile(optimizer=Adam(), loss='binary_crossentropy', metrics=['accuracy'])  # Changed to 'binary_crossentropy'\n"
      ],
      "metadata": {
        "id": "GsKx-xfYt2Np"
      },
      "execution_count": 104,
      "outputs": []
    },
    {
      "cell_type": "code",
      "source": [
        "history = vgg16_model.fit(\n",
        "    train_set,\n",
        "    steps_per_epoch=steps_per_epoch,\n",
        "    validation_data=test_set,\n",
        "    validation_steps=validation_steps,\n",
        "    epochs=10\n",
        ")"
      ],
      "metadata": {
        "colab": {
          "base_uri": "https://localhost:8080/"
        },
        "id": "u4xEbUc959Ba",
        "outputId": "7b2cba9a-9713-4e22-b87a-43ac738bf5d7"
      },
      "execution_count": 105,
      "outputs": [
        {
          "output_type": "stream",
          "name": "stdout",
          "text": [
            "Epoch 1/10\n",
            "1/1 [==============================] - 5s 5s/step - loss: 0.6950 - accuracy: 0.5938 - val_loss: 0.7054 - val_accuracy: 0.5000\n",
            "Epoch 2/10\n",
            "1/1 [==============================] - 1s 869ms/step - loss: 0.6520 - accuracy: 0.5000 - val_loss: 0.6060 - val_accuracy: 0.7500\n",
            "Epoch 3/10\n",
            "1/1 [==============================] - 0s 162ms/step - loss: 0.5655 - accuracy: 1.0000 - val_loss: 0.5981 - val_accuracy: 0.5000\n",
            "Epoch 4/10\n",
            "1/1 [==============================] - 0s 360ms/step - loss: 0.5370 - accuracy: 0.8125 - val_loss: 0.6026 - val_accuracy: 0.5000\n",
            "Epoch 5/10\n",
            "1/1 [==============================] - 0s 367ms/step - loss: 0.5118 - accuracy: 0.8438 - val_loss: 0.5999 - val_accuracy: 0.5000\n",
            "Epoch 6/10\n",
            "1/1 [==============================] - 0s 141ms/step - loss: 0.5906 - accuracy: 1.0000 - val_loss: 0.6484 - val_accuracy: 0.6250\n",
            "Epoch 7/10\n",
            "1/1 [==============================] - 0s 394ms/step - loss: 0.5080 - accuracy: 0.7188 - val_loss: 0.7247 - val_accuracy: 0.6250\n",
            "Epoch 8/10\n",
            "1/1 [==============================] - 0s 162ms/step - loss: 0.5253 - accuracy: 0.5000 - val_loss: 0.7407 - val_accuracy: 0.6250\n",
            "Epoch 9/10\n",
            "1/1 [==============================] - 0s 273ms/step - loss: 0.4806 - accuracy: 0.7188 - val_loss: 0.7040 - val_accuracy: 0.6250\n",
            "Epoch 10/10\n",
            "1/1 [==============================] - 0s 123ms/step - loss: 0.4709 - accuracy: 0.5000 - val_loss: 0.6143 - val_accuracy: 0.7500\n"
          ]
        }
      ]
    },
    {
      "cell_type": "markdown",
      "source": [
        "InceptionV3"
      ],
      "metadata": {
        "id": "Em6wQDkx8KRb"
      }
    },
    {
      "cell_type": "code",
      "source": [
        "base_model = InceptionV3(weights='imagenet', include_top=False, input_shape=(124, 124, 3))\n",
        "x = base_model.output\n",
        "x = GlobalAveragePooling2D()(x)\n",
        "x = Dense(1024, activation='relu')(x)\n",
        "predictions = Dense(1, activation='sigmoid')(x)  # Changed to 1 unit with sigmoid activation\n",
        "inceptionv3_model = Model(inputs=base_model.input, outputs=predictions)\n",
        "\n",
        "for layer in base_model.layers:\n",
        "    layer.trainable = False\n",
        "\n",
        "inceptionv3_model.compile(optimizer=Adam(), loss='binary_crossentropy', metrics=['accuracy'])  # Changed to 'binary_crossentropy'"
      ],
      "metadata": {
        "colab": {
          "base_uri": "https://localhost:8080/"
        },
        "id": "ayzeMS6F8JZf",
        "outputId": "3f1c67f0-69ec-4d75-8f41-7ead430e3994"
      },
      "execution_count": 106,
      "outputs": [
        {
          "output_type": "stream",
          "name": "stdout",
          "text": [
            "Downloading data from https://storage.googleapis.com/tensorflow/keras-applications/inception_v3/inception_v3_weights_tf_dim_ordering_tf_kernels_notop.h5\n",
            "87910968/87910968 [==============================] - 1s 0us/step\n"
          ]
        }
      ]
    },
    {
      "cell_type": "code",
      "source": [
        "history = inceptionv3_model.fit(\n",
        "    train_set,\n",
        "    steps_per_epoch=steps_per_epoch,\n",
        "    validation_data=test_set,\n",
        "    validation_steps=validation_steps,\n",
        "    epochs=10\n",
        ")"
      ],
      "metadata": {
        "colab": {
          "base_uri": "https://localhost:8080/"
        },
        "id": "JYiq_wKhA6qY",
        "outputId": "1a2702eb-769a-4179-8527-dad4cf35b6a2"
      },
      "execution_count": 107,
      "outputs": [
        {
          "output_type": "stream",
          "name": "stdout",
          "text": [
            "Epoch 1/10\n",
            "1/1 [==============================] - 9s 9s/step - loss: 0.8715 - accuracy: 0.5312 - val_loss: 13.0303 - val_accuracy: 0.5000\n",
            "Epoch 2/10\n",
            "1/1 [==============================] - 1s 1s/step - loss: 1.5783e-15 - accuracy: 1.0000 - val_loss: 21.3552 - val_accuracy: 0.5000\n",
            "Epoch 3/10\n",
            "1/1 [==============================] - 0s 126ms/step - loss: 16.5164 - accuracy: 0.5000 - val_loss: 19.6622 - val_accuracy: 0.5000\n",
            "Epoch 4/10\n",
            "1/1 [==============================] - 0s 230ms/step - loss: 19.1913 - accuracy: 0.5000 - val_loss: 12.1236 - val_accuracy: 0.5000\n",
            "Epoch 5/10\n",
            "1/1 [==============================] - 0s 128ms/step - loss: 2.3699e-16 - accuracy: 1.0000 - val_loss: 6.7691 - val_accuracy: 0.6250\n",
            "Epoch 6/10\n",
            "1/1 [==============================] - 0s 225ms/step - loss: 3.8770 - accuracy: 0.6875 - val_loss: 2.3959 - val_accuracy: 0.7500\n",
            "Epoch 7/10\n",
            "1/1 [==============================] - 0s 141ms/step - loss: 1.1187 - accuracy: 0.5000 - val_loss: 1.0628 - val_accuracy: 0.7500\n",
            "Epoch 8/10\n",
            "1/1 [==============================] - 0s 234ms/step - loss: 0.2692 - accuracy: 0.9062 - val_loss: 0.6903 - val_accuracy: 0.7500\n",
            "Epoch 9/10\n",
            "1/1 [==============================] - 0s 137ms/step - loss: 0.0384 - accuracy: 1.0000 - val_loss: 1.0091 - val_accuracy: 0.7500\n",
            "Epoch 10/10\n",
            "1/1 [==============================] - 0s 306ms/step - loss: 1.2236 - accuracy: 0.6562 - val_loss: 0.7556 - val_accuracy: 0.7500\n"
          ]
        }
      ]
    },
    {
      "cell_type": "markdown",
      "source": [
        "Xception"
      ],
      "metadata": {
        "id": "NjPi8D0N4fcI"
      }
    },
    {
      "cell_type": "code",
      "source": [
        "base_model = Xception(weights='imagenet', include_top=False, input_shape=(124, 124, 3))\n",
        "x = base_model.output\n",
        "x = GlobalAveragePooling2D()(x)\n",
        "x = Dense(1024, activation='relu')(x)\n",
        "predictions = Dense(1, activation='sigmoid')(x)  # Changed to 1 unit with sigmoid activation\n",
        "xception_model = Model(inputs=base_model.input, outputs=predictions)\n",
        "\n",
        "for layer in base_model.layers:\n",
        "    layer.trainable = False\n",
        "\n",
        "xception_model.compile(optimizer=Adam(), loss='binary_crossentropy', metrics=['accuracy'])  # Changed to 'binary_crossentropy'\n"
      ],
      "metadata": {
        "colab": {
          "base_uri": "https://localhost:8080/"
        },
        "id": "NSAM_btC4Th0",
        "outputId": "e1e59f2c-eea0-4ba4-cd0b-068f7f287a2d"
      },
      "execution_count": 108,
      "outputs": [
        {
          "output_type": "stream",
          "name": "stdout",
          "text": [
            "Downloading data from https://storage.googleapis.com/tensorflow/keras-applications/xception/xception_weights_tf_dim_ordering_tf_kernels_notop.h5\n",
            "83683744/83683744 [==============================] - 1s 0us/step\n"
          ]
        }
      ]
    },
    {
      "cell_type": "code",
      "source": [
        "history = xception_model.fit(\n",
        "    train_set,\n",
        "    steps_per_epoch=steps_per_epoch,\n",
        "    validation_data=test_set,\n",
        "    validation_steps=validation_steps,\n",
        "    epochs=10\n",
        ")"
      ],
      "metadata": {
        "colab": {
          "base_uri": "https://localhost:8080/"
        },
        "id": "iHkOx-KGtJXB",
        "outputId": "9690725a-ca5c-44d0-f68a-0718911e2b22"
      },
      "execution_count": 109,
      "outputs": [
        {
          "output_type": "stream",
          "name": "stdout",
          "text": [
            "Epoch 1/10\n",
            "1/1 [==============================] - 5s 5s/step - loss: 0.4942 - accuracy: 1.0000 - val_loss: 3.1413 - val_accuracy: 0.5000\n",
            "Epoch 2/10\n",
            "1/1 [==============================] - 0s 126ms/step - loss: 2.6010e-04 - accuracy: 1.0000 - val_loss: 5.1090 - val_accuracy: 0.5000\n",
            "Epoch 3/10\n",
            "1/1 [==============================] - 2s 2s/step - loss: 4.2884 - accuracy: 0.5312 - val_loss: 4.2125 - val_accuracy: 0.5000\n",
            "Epoch 4/10\n",
            "1/1 [==============================] - 0s 237ms/step - loss: 3.8673 - accuracy: 0.5312 - val_loss: 2.5494 - val_accuracy: 0.5000\n",
            "Epoch 5/10\n",
            "1/1 [==============================] - 0s 117ms/step - loss: 2.8065 - accuracy: 0.5000 - val_loss: 1.0404 - val_accuracy: 0.5000\n",
            "Epoch 6/10\n",
            "1/1 [==============================] - 0s 123ms/step - loss: 0.2621 - accuracy: 1.0000 - val_loss: 0.6983 - val_accuracy: 0.6250\n",
            "Epoch 7/10\n",
            "1/1 [==============================] - 0s 100ms/step - loss: 0.6238 - accuracy: 0.5000 - val_loss: 1.1485 - val_accuracy: 0.5000\n",
            "Epoch 8/10\n",
            "1/1 [==============================] - 0s 271ms/step - loss: 1.3341 - accuracy: 0.5625 - val_loss: 1.1318 - val_accuracy: 0.5000\n",
            "Epoch 9/10\n",
            "1/1 [==============================] - 0s 263ms/step - loss: 1.3401 - accuracy: 0.5312 - val_loss: 0.7446 - val_accuracy: 0.5000\n",
            "Epoch 10/10\n",
            "1/1 [==============================] - 0s 285ms/step - loss: 0.7200 - accuracy: 0.6875 - val_loss: 0.5251 - val_accuracy: 0.8750\n"
          ]
        }
      ]
    },
    {
      "cell_type": "markdown",
      "source": [
        "Credits"
      ],
      "metadata": {
        "id": "3Gsl37RdDtby"
      }
    },
    {
      "cell_type": "code",
      "source": [
        "# @misc{https://doi.org/10.5281/zenodo.13120260,\n",
        "#     doi = {10.5281/ZENODO.13120260},\n",
        "#     url = {https://zenodo.org/doi/10.5281/zenodo.13120260},\n",
        "#     author = {Adeola, Lare},\n",
        "#     keywords = {Computer Vision, Applied Machine Learning, Deep Learning, Parkinson's Disease, neurodegenerative disease},\n",
        "#     title = {Using Computer Vision to detect Parkinson's Disease},\n",
        "#     publisher = {Zenodo},\n",
        "#     year = {2024},\n",
        "#     copyright = {Creative Commons Attribution 4.0 International}\n",
        "# }"
      ],
      "metadata": {
        "id": "ZC_i9AozNRFM"
      },
      "execution_count": 110,
      "outputs": []
    }
  ]
}